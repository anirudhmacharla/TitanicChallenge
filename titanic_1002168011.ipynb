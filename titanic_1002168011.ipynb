{
  "cells": [
    {
      "cell_type": "markdown",
      "metadata": {
        "id": "view-in-github",
        "colab_type": "text"
      },
      "source": [
        "<a href=\"https://colab.research.google.com/github/anirudhmacharla/TitanicChallenge/blob/main/titanic_1002168011.ipynb\" target=\"_parent\"><img src=\"https://colab.research.google.com/assets/colab-badge.svg\" alt=\"Open In Colab\"/></a>"
      ]
    },
    {
      "cell_type": "code",
      "execution_count": null,
      "id": "d5ace2ac",
      "metadata": {
        "_cell_guid": "b1076dfc-b9ad-4769-8c92-a6c4dae69d19",
        "_uuid": "8f2839f25d086af736a60e9eeb907d3b93b6e0e5",
        "execution": {
          "iopub.execute_input": "2023-10-28T18:55:12.997026Z",
          "iopub.status.busy": "2023-10-28T18:55:12.996634Z",
          "iopub.status.idle": "2023-10-28T18:55:20.805400Z",
          "shell.execute_reply": "2023-10-28T18:55:20.802180Z"
        },
        "papermill": {
          "duration": 7.81542,
          "end_time": "2023-10-28T18:55:20.807235",
          "exception": false,
          "start_time": "2023-10-28T18:55:12.991815",
          "status": "completed"
        },
        "tags": [],
        "id": "d5ace2ac",
        "outputId": "888ed287-c7b0-4e60-91af-61240700d84e"
      },
      "outputs": [
        {
          "name": "stdout",
          "output_type": "stream",
          "text": [
            "Found TF-DF 1.4.0\n"
          ]
        }
      ],
      "source": [
        "import numpy as np\n",
        "import pandas as pd\n",
        "import os\n",
        "\n",
        "import tensorflow as tf\n",
        "import tensorflow_decision_forests as tfdf\n",
        "\n",
        "print(f\"Found TF-DF {tfdf.__version__}\")"
      ]
    },
    {
      "cell_type": "code",
      "execution_count": null,
      "id": "21116ffa",
      "metadata": {
        "execution": {
          "iopub.execute_input": "2023-10-28T18:55:20.814486Z",
          "iopub.status.busy": "2023-10-28T18:55:20.813927Z",
          "iopub.status.idle": "2023-10-28T18:55:20.867885Z",
          "shell.execute_reply": "2023-10-28T18:55:20.866941Z"
        },
        "papermill": {
          "duration": 0.059645,
          "end_time": "2023-10-28T18:55:20.869951",
          "exception": false,
          "start_time": "2023-10-28T18:55:20.810306",
          "status": "completed"
        },
        "tags": [],
        "id": "21116ffa",
        "outputId": "8f877259-7b6b-4c18-c740-e4d6804a8dde"
      },
      "outputs": [
        {
          "data": {
            "text/html": [
              "<div>\n",
              "<style scoped>\n",
              "    .dataframe tbody tr th:only-of-type {\n",
              "        vertical-align: middle;\n",
              "    }\n",
              "\n",
              "    .dataframe tbody tr th {\n",
              "        vertical-align: top;\n",
              "    }\n",
              "\n",
              "    .dataframe thead th {\n",
              "        text-align: right;\n",
              "    }\n",
              "</style>\n",
              "<table border=\"1\" class=\"dataframe\">\n",
              "  <thead>\n",
              "    <tr style=\"text-align: right;\">\n",
              "      <th></th>\n",
              "      <th>PassengerId</th>\n",
              "      <th>Survived</th>\n",
              "      <th>Pclass</th>\n",
              "      <th>Name</th>\n",
              "      <th>Sex</th>\n",
              "      <th>Age</th>\n",
              "      <th>SibSp</th>\n",
              "      <th>Parch</th>\n",
              "      <th>Ticket</th>\n",
              "      <th>Fare</th>\n",
              "      <th>Cabin</th>\n",
              "      <th>Embarked</th>\n",
              "    </tr>\n",
              "  </thead>\n",
              "  <tbody>\n",
              "    <tr>\n",
              "      <th>0</th>\n",
              "      <td>1</td>\n",
              "      <td>0</td>\n",
              "      <td>3</td>\n",
              "      <td>Braund, Mr. Owen Harris</td>\n",
              "      <td>male</td>\n",
              "      <td>22.0</td>\n",
              "      <td>1</td>\n",
              "      <td>0</td>\n",
              "      <td>A/5 21171</td>\n",
              "      <td>7.2500</td>\n",
              "      <td>NaN</td>\n",
              "      <td>S</td>\n",
              "    </tr>\n",
              "    <tr>\n",
              "      <th>1</th>\n",
              "      <td>2</td>\n",
              "      <td>1</td>\n",
              "      <td>1</td>\n",
              "      <td>Cumings, Mrs. John Bradley (Florence Briggs Th...</td>\n",
              "      <td>female</td>\n",
              "      <td>38.0</td>\n",
              "      <td>1</td>\n",
              "      <td>0</td>\n",
              "      <td>PC 17599</td>\n",
              "      <td>71.2833</td>\n",
              "      <td>C85</td>\n",
              "      <td>C</td>\n",
              "    </tr>\n",
              "    <tr>\n",
              "      <th>2</th>\n",
              "      <td>3</td>\n",
              "      <td>1</td>\n",
              "      <td>3</td>\n",
              "      <td>Heikkinen, Miss. Laina</td>\n",
              "      <td>female</td>\n",
              "      <td>26.0</td>\n",
              "      <td>0</td>\n",
              "      <td>0</td>\n",
              "      <td>STON/O2. 3101282</td>\n",
              "      <td>7.9250</td>\n",
              "      <td>NaN</td>\n",
              "      <td>S</td>\n",
              "    </tr>\n",
              "    <tr>\n",
              "      <th>3</th>\n",
              "      <td>4</td>\n",
              "      <td>1</td>\n",
              "      <td>1</td>\n",
              "      <td>Futrelle, Mrs. Jacques Heath (Lily May Peel)</td>\n",
              "      <td>female</td>\n",
              "      <td>35.0</td>\n",
              "      <td>1</td>\n",
              "      <td>0</td>\n",
              "      <td>113803</td>\n",
              "      <td>53.1000</td>\n",
              "      <td>C123</td>\n",
              "      <td>S</td>\n",
              "    </tr>\n",
              "    <tr>\n",
              "      <th>4</th>\n",
              "      <td>5</td>\n",
              "      <td>0</td>\n",
              "      <td>3</td>\n",
              "      <td>Allen, Mr. William Henry</td>\n",
              "      <td>male</td>\n",
              "      <td>35.0</td>\n",
              "      <td>0</td>\n",
              "      <td>0</td>\n",
              "      <td>373450</td>\n",
              "      <td>8.0500</td>\n",
              "      <td>NaN</td>\n",
              "      <td>S</td>\n",
              "    </tr>\n",
              "    <tr>\n",
              "      <th>5</th>\n",
              "      <td>6</td>\n",
              "      <td>0</td>\n",
              "      <td>3</td>\n",
              "      <td>Moran, Mr. James</td>\n",
              "      <td>male</td>\n",
              "      <td>NaN</td>\n",
              "      <td>0</td>\n",
              "      <td>0</td>\n",
              "      <td>330877</td>\n",
              "      <td>8.4583</td>\n",
              "      <td>NaN</td>\n",
              "      <td>Q</td>\n",
              "    </tr>\n",
              "    <tr>\n",
              "      <th>6</th>\n",
              "      <td>7</td>\n",
              "      <td>0</td>\n",
              "      <td>1</td>\n",
              "      <td>McCarthy, Mr. Timothy J</td>\n",
              "      <td>male</td>\n",
              "      <td>54.0</td>\n",
              "      <td>0</td>\n",
              "      <td>0</td>\n",
              "      <td>17463</td>\n",
              "      <td>51.8625</td>\n",
              "      <td>E46</td>\n",
              "      <td>S</td>\n",
              "    </tr>\n",
              "    <tr>\n",
              "      <th>7</th>\n",
              "      <td>8</td>\n",
              "      <td>0</td>\n",
              "      <td>3</td>\n",
              "      <td>Palsson, Master. Gosta Leonard</td>\n",
              "      <td>male</td>\n",
              "      <td>2.0</td>\n",
              "      <td>3</td>\n",
              "      <td>1</td>\n",
              "      <td>349909</td>\n",
              "      <td>21.0750</td>\n",
              "      <td>NaN</td>\n",
              "      <td>S</td>\n",
              "    </tr>\n",
              "    <tr>\n",
              "      <th>8</th>\n",
              "      <td>9</td>\n",
              "      <td>1</td>\n",
              "      <td>3</td>\n",
              "      <td>Johnson, Mrs. Oscar W (Elisabeth Vilhelmina Berg)</td>\n",
              "      <td>female</td>\n",
              "      <td>27.0</td>\n",
              "      <td>0</td>\n",
              "      <td>2</td>\n",
              "      <td>347742</td>\n",
              "      <td>11.1333</td>\n",
              "      <td>NaN</td>\n",
              "      <td>S</td>\n",
              "    </tr>\n",
              "    <tr>\n",
              "      <th>9</th>\n",
              "      <td>10</td>\n",
              "      <td>1</td>\n",
              "      <td>2</td>\n",
              "      <td>Nasser, Mrs. Nicholas (Adele Achem)</td>\n",
              "      <td>female</td>\n",
              "      <td>14.0</td>\n",
              "      <td>1</td>\n",
              "      <td>0</td>\n",
              "      <td>237736</td>\n",
              "      <td>30.0708</td>\n",
              "      <td>NaN</td>\n",
              "      <td>C</td>\n",
              "    </tr>\n",
              "  </tbody>\n",
              "</table>\n",
              "</div>"
            ],
            "text/plain": [
              "   PassengerId  Survived  Pclass  \\\n",
              "0            1         0       3   \n",
              "1            2         1       1   \n",
              "2            3         1       3   \n",
              "3            4         1       1   \n",
              "4            5         0       3   \n",
              "5            6         0       3   \n",
              "6            7         0       1   \n",
              "7            8         0       3   \n",
              "8            9         1       3   \n",
              "9           10         1       2   \n",
              "\n",
              "                                                Name     Sex   Age  SibSp  \\\n",
              "0                            Braund, Mr. Owen Harris    male  22.0      1   \n",
              "1  Cumings, Mrs. John Bradley (Florence Briggs Th...  female  38.0      1   \n",
              "2                             Heikkinen, Miss. Laina  female  26.0      0   \n",
              "3       Futrelle, Mrs. Jacques Heath (Lily May Peel)  female  35.0      1   \n",
              "4                           Allen, Mr. William Henry    male  35.0      0   \n",
              "5                                   Moran, Mr. James    male   NaN      0   \n",
              "6                            McCarthy, Mr. Timothy J    male  54.0      0   \n",
              "7                     Palsson, Master. Gosta Leonard    male   2.0      3   \n",
              "8  Johnson, Mrs. Oscar W (Elisabeth Vilhelmina Berg)  female  27.0      0   \n",
              "9                Nasser, Mrs. Nicholas (Adele Achem)  female  14.0      1   \n",
              "\n",
              "   Parch            Ticket     Fare Cabin Embarked  \n",
              "0      0         A/5 21171   7.2500   NaN        S  \n",
              "1      0          PC 17599  71.2833   C85        C  \n",
              "2      0  STON/O2. 3101282   7.9250   NaN        S  \n",
              "3      0            113803  53.1000  C123        S  \n",
              "4      0            373450   8.0500   NaN        S  \n",
              "5      0            330877   8.4583   NaN        Q  \n",
              "6      0             17463  51.8625   E46        S  \n",
              "7      1            349909  21.0750   NaN        S  \n",
              "8      2            347742  11.1333   NaN        S  \n",
              "9      0            237736  30.0708   NaN        C  "
            ]
          },
          "execution_count": 2,
          "metadata": {},
          "output_type": "execute_result"
        }
      ],
      "source": [
        "train_df = pd.read_csv(\"/kaggle/input/titanic/train.csv\")\n",
        "serving_df = pd.read_csv(\"/kaggle/input/titanic/test.csv\")\n",
        "\n",
        "train_df.head(10)"
      ]
    },
    {
      "cell_type": "code",
      "execution_count": null,
      "id": "ecd677a8",
      "metadata": {
        "execution": {
          "iopub.execute_input": "2023-10-28T18:55:20.879178Z",
          "iopub.status.busy": "2023-10-28T18:55:20.878827Z",
          "iopub.status.idle": "2023-10-28T18:55:20.906103Z",
          "shell.execute_reply": "2023-10-28T18:55:20.905149Z"
        },
        "papermill": {
          "duration": 0.034429,
          "end_time": "2023-10-28T18:55:20.907971",
          "exception": false,
          "start_time": "2023-10-28T18:55:20.873542",
          "status": "completed"
        },
        "tags": [],
        "id": "ecd677a8",
        "outputId": "11c19f5a-4e4e-4a5e-f653-804494f19622"
      },
      "outputs": [
        {
          "data": {
            "text/html": [
              "<div>\n",
              "<style scoped>\n",
              "    .dataframe tbody tr th:only-of-type {\n",
              "        vertical-align: middle;\n",
              "    }\n",
              "\n",
              "    .dataframe tbody tr th {\n",
              "        vertical-align: top;\n",
              "    }\n",
              "\n",
              "    .dataframe thead th {\n",
              "        text-align: right;\n",
              "    }\n",
              "</style>\n",
              "<table border=\"1\" class=\"dataframe\">\n",
              "  <thead>\n",
              "    <tr style=\"text-align: right;\">\n",
              "      <th></th>\n",
              "      <th>PassengerId</th>\n",
              "      <th>Survived</th>\n",
              "      <th>Pclass</th>\n",
              "      <th>Name</th>\n",
              "      <th>Sex</th>\n",
              "      <th>Age</th>\n",
              "      <th>SibSp</th>\n",
              "      <th>Parch</th>\n",
              "      <th>Ticket</th>\n",
              "      <th>Fare</th>\n",
              "      <th>Cabin</th>\n",
              "      <th>Embarked</th>\n",
              "      <th>Ticket_number</th>\n",
              "      <th>Ticket_item</th>\n",
              "    </tr>\n",
              "  </thead>\n",
              "  <tbody>\n",
              "    <tr>\n",
              "      <th>0</th>\n",
              "      <td>1</td>\n",
              "      <td>0</td>\n",
              "      <td>3</td>\n",
              "      <td>Braund Mr Owen Harris</td>\n",
              "      <td>male</td>\n",
              "      <td>22.0</td>\n",
              "      <td>1</td>\n",
              "      <td>0</td>\n",
              "      <td>A/5 21171</td>\n",
              "      <td>7.2500</td>\n",
              "      <td>NaN</td>\n",
              "      <td>S</td>\n",
              "      <td>21171</td>\n",
              "      <td>A/5</td>\n",
              "    </tr>\n",
              "    <tr>\n",
              "      <th>1</th>\n",
              "      <td>2</td>\n",
              "      <td>1</td>\n",
              "      <td>1</td>\n",
              "      <td>Cumings Mrs John Bradley Florence Briggs Thayer</td>\n",
              "      <td>female</td>\n",
              "      <td>38.0</td>\n",
              "      <td>1</td>\n",
              "      <td>0</td>\n",
              "      <td>PC 17599</td>\n",
              "      <td>71.2833</td>\n",
              "      <td>C85</td>\n",
              "      <td>C</td>\n",
              "      <td>17599</td>\n",
              "      <td>PC</td>\n",
              "    </tr>\n",
              "    <tr>\n",
              "      <th>2</th>\n",
              "      <td>3</td>\n",
              "      <td>1</td>\n",
              "      <td>3</td>\n",
              "      <td>Heikkinen Miss Laina</td>\n",
              "      <td>female</td>\n",
              "      <td>26.0</td>\n",
              "      <td>0</td>\n",
              "      <td>0</td>\n",
              "      <td>STON/O2. 3101282</td>\n",
              "      <td>7.9250</td>\n",
              "      <td>NaN</td>\n",
              "      <td>S</td>\n",
              "      <td>3101282</td>\n",
              "      <td>STON/O2.</td>\n",
              "    </tr>\n",
              "    <tr>\n",
              "      <th>3</th>\n",
              "      <td>4</td>\n",
              "      <td>1</td>\n",
              "      <td>1</td>\n",
              "      <td>Futrelle Mrs Jacques Heath Lily May Peel</td>\n",
              "      <td>female</td>\n",
              "      <td>35.0</td>\n",
              "      <td>1</td>\n",
              "      <td>0</td>\n",
              "      <td>113803</td>\n",
              "      <td>53.1000</td>\n",
              "      <td>C123</td>\n",
              "      <td>S</td>\n",
              "      <td>113803</td>\n",
              "      <td>NONE</td>\n",
              "    </tr>\n",
              "    <tr>\n",
              "      <th>4</th>\n",
              "      <td>5</td>\n",
              "      <td>0</td>\n",
              "      <td>3</td>\n",
              "      <td>Allen Mr William Henry</td>\n",
              "      <td>male</td>\n",
              "      <td>35.0</td>\n",
              "      <td>0</td>\n",
              "      <td>0</td>\n",
              "      <td>373450</td>\n",
              "      <td>8.0500</td>\n",
              "      <td>NaN</td>\n",
              "      <td>S</td>\n",
              "      <td>373450</td>\n",
              "      <td>NONE</td>\n",
              "    </tr>\n",
              "  </tbody>\n",
              "</table>\n",
              "</div>"
            ],
            "text/plain": [
              "   PassengerId  Survived  Pclass  \\\n",
              "0            1         0       3   \n",
              "1            2         1       1   \n",
              "2            3         1       3   \n",
              "3            4         1       1   \n",
              "4            5         0       3   \n",
              "\n",
              "                                              Name     Sex   Age  SibSp  \\\n",
              "0                            Braund Mr Owen Harris    male  22.0      1   \n",
              "1  Cumings Mrs John Bradley Florence Briggs Thayer  female  38.0      1   \n",
              "2                             Heikkinen Miss Laina  female  26.0      0   \n",
              "3         Futrelle Mrs Jacques Heath Lily May Peel  female  35.0      1   \n",
              "4                           Allen Mr William Henry    male  35.0      0   \n",
              "\n",
              "   Parch            Ticket     Fare Cabin Embarked Ticket_number Ticket_item  \n",
              "0      0         A/5 21171   7.2500   NaN        S         21171         A/5  \n",
              "1      0          PC 17599  71.2833   C85        C         17599          PC  \n",
              "2      0  STON/O2. 3101282   7.9250   NaN        S       3101282    STON/O2.  \n",
              "3      0            113803  53.1000  C123        S        113803        NONE  \n",
              "4      0            373450   8.0500   NaN        S        373450        NONE  "
            ]
          },
          "execution_count": 3,
          "metadata": {},
          "output_type": "execute_result"
        }
      ],
      "source": [
        "def preprocess(df):\n",
        "    df = df.copy()\n",
        "\n",
        "    def normalize_name(x):\n",
        "        return \" \".join([v.strip(\",()[].\\\"'\") for v in x.split(\" \")])\n",
        "\n",
        "    def ticket_number(x):\n",
        "        return x.split(\" \")[-1]\n",
        "\n",
        "    def ticket_item(x):\n",
        "        items = x.split(\" \")\n",
        "        if len(items) == 1:\n",
        "            return \"NONE\"\n",
        "        return \"_\".join(items[0:-1])\n",
        "\n",
        "    df[\"Name\"] = df[\"Name\"].apply(normalize_name)\n",
        "    df[\"Ticket_number\"] = df[\"Ticket\"].apply(ticket_number)\n",
        "    df[\"Ticket_item\"] = df[\"Ticket\"].apply(ticket_item)\n",
        "    return df\n",
        "\n",
        "preprocessed_train_df = preprocess(train_df)\n",
        "preprocessed_serving_df = preprocess(serving_df)\n",
        "\n",
        "preprocessed_train_df.head(5)"
      ]
    },
    {
      "cell_type": "code",
      "execution_count": null,
      "id": "4c2d4a92",
      "metadata": {
        "execution": {
          "iopub.execute_input": "2023-10-28T18:55:20.916149Z",
          "iopub.status.busy": "2023-10-28T18:55:20.915780Z",
          "iopub.status.idle": "2023-10-28T18:55:20.920966Z",
          "shell.execute_reply": "2023-10-28T18:55:20.920035Z"
        },
        "papermill": {
          "duration": 0.011026,
          "end_time": "2023-10-28T18:55:20.922548",
          "exception": false,
          "start_time": "2023-10-28T18:55:20.911522",
          "status": "completed"
        },
        "tags": [],
        "id": "4c2d4a92",
        "outputId": "8c0f871e-45a5-4188-fc9f-82357c0ce6f1"
      },
      "outputs": [
        {
          "name": "stdout",
          "output_type": "stream",
          "text": [
            "Input features: ['Pclass', 'Name', 'Sex', 'Age', 'SibSp', 'Parch', 'Fare', 'Cabin', 'Embarked', 'Ticket_number', 'Ticket_item']\n"
          ]
        }
      ],
      "source": [
        "input_features = list(preprocessed_train_df.columns)\n",
        "input_features.remove(\"Ticket\")\n",
        "input_features.remove(\"PassengerId\")\n",
        "input_features.remove(\"Survived\")\n",
        "#input_features.remove(\"Ticket_number\")\n",
        "\n",
        "print(f\"Input features: {input_features}\")"
      ]
    },
    {
      "cell_type": "code",
      "execution_count": null,
      "id": "30752f1a",
      "metadata": {
        "execution": {
          "iopub.execute_input": "2023-10-28T18:55:20.930365Z",
          "iopub.status.busy": "2023-10-28T18:55:20.930088Z",
          "iopub.status.idle": "2023-10-28T18:55:21.184783Z",
          "shell.execute_reply": "2023-10-28T18:55:21.183609Z"
        },
        "papermill": {
          "duration": 0.261054,
          "end_time": "2023-10-28T18:55:21.186985",
          "exception": false,
          "start_time": "2023-10-28T18:55:20.925931",
          "status": "completed"
        },
        "tags": [],
        "id": "30752f1a"
      },
      "outputs": [],
      "source": [
        "def tokenize_names(features, labels=None):\n",
        "    \"\"\"Divite the names into tokens. TF-DF can consume text tokens natively.\"\"\"\n",
        "    features[\"Name\"] =  tf.strings.split(features[\"Name\"])\n",
        "    return features, labels\n",
        "\n",
        "train_ds = tfdf.keras.pd_dataframe_to_tf_dataset(preprocessed_train_df,label=\"Survived\").map(tokenize_names)\n",
        "serving_ds = tfdf.keras.pd_dataframe_to_tf_dataset(preprocessed_serving_df).map(tokenize_names)"
      ]
    },
    {
      "cell_type": "code",
      "execution_count": null,
      "id": "c8b9e63b",
      "metadata": {
        "execution": {
          "iopub.execute_input": "2023-10-28T18:55:21.195862Z",
          "iopub.status.busy": "2023-10-28T18:55:21.195494Z",
          "iopub.status.idle": "2023-10-28T18:55:28.671481Z",
          "shell.execute_reply": "2023-10-28T18:55:28.670408Z"
        },
        "papermill": {
          "duration": 7.482308,
          "end_time": "2023-10-28T18:55:28.673145",
          "exception": false,
          "start_time": "2023-10-28T18:55:21.190837",
          "status": "completed"
        },
        "tags": [],
        "id": "c8b9e63b",
        "outputId": "42246592-17ea-41d9-a166-ccb95a6d55dc"
      },
      "outputs": [
        {
          "name": "stderr",
          "output_type": "stream",
          "text": [
            "[WARNING 23-10-28 18:55:21.2244 UTC gradient_boosted_trees.cc:1818] \"goss_alpha\" set but \"sampling_method\" not equal to \"GOSS\".\n",
            "[WARNING 23-10-28 18:55:21.2246 UTC gradient_boosted_trees.cc:1829] \"goss_beta\" set but \"sampling_method\" not equal to \"GOSS\".\n",
            "[WARNING 23-10-28 18:55:21.2246 UTC gradient_boosted_trees.cc:1843] \"selective_gradient_boosting_ratio\" set but \"sampling_method\" not equal to \"SELGB\".\n",
            "[INFO 23-10-28 18:55:26.3152 UTC kernel.cc:1243] Loading model from path /tmp/tmpryf21h6c/model/ with prefix 44a6a1cac953433e\n",
            "[INFO 23-10-28 18:55:26.3211 UTC abstract_model.cc:1311] Engine \"GradientBoostedTreesQuickScorerExtended\" built\n",
            "[INFO 23-10-28 18:55:26.3212 UTC kernel.cc:1075] Use fast generic engine\n"
          ]
        },
        {
          "name": "stdout",
          "output_type": "stream",
          "text": [
            "WARNING: AutoGraph could not transform <function simple_ml_inference_op_with_handle at 0x78af52631d80> and will run it as-is.\n",
            "Please report this to the TensorFlow team. When filing the bug, set the verbosity to 10 (on Linux, `export AUTOGRAPH_VERBOSITY=10`) and attach the full output.\n",
            "Cause: could not get source code\n",
            "To silence this warning, decorate the function with @tf.autograph.experimental.do_not_convert\n",
            "Accuracy: 0.8260869383811951 Loss:0.8608942627906799\n"
          ]
        }
      ],
      "source": [
        "model = tfdf.keras.GradientBoostedTreesModel(\n",
        "    verbose=0, # Very few logs\n",
        "    features=[tfdf.keras.FeatureUsage(name=n) for n in input_features],\n",
        "    exclude_non_specified_features=True, # Only use the features in \"features\"\n",
        "    random_seed=1234,\n",
        ")\n",
        "model.fit(train_ds)\n",
        "\n",
        "self_evaluation = model.make_inspector().evaluation()\n",
        "print(f\"Accuracy: {self_evaluation.accuracy} Loss:{self_evaluation.loss}\")"
      ]
    },
    {
      "cell_type": "code",
      "execution_count": null,
      "id": "cb660ae6",
      "metadata": {
        "execution": {
          "iopub.execute_input": "2023-10-28T18:55:28.682087Z",
          "iopub.status.busy": "2023-10-28T18:55:28.681801Z",
          "iopub.status.idle": "2023-10-28T18:55:30.171421Z",
          "shell.execute_reply": "2023-10-28T18:55:30.170772Z"
        },
        "papermill": {
          "duration": 1.495937,
          "end_time": "2023-10-28T18:55:30.173169",
          "exception": false,
          "start_time": "2023-10-28T18:55:28.677232",
          "status": "completed"
        },
        "tags": [],
        "id": "cb660ae6",
        "outputId": "291e627c-47ba-4a2c-f13b-9789f2225b62"
      },
      "outputs": [
        {
          "name": "stderr",
          "output_type": "stream",
          "text": [
            "[WARNING 23-10-28 18:55:28.6924 UTC gradient_boosted_trees.cc:1818] \"goss_alpha\" set but \"sampling_method\" not equal to \"GOSS\".\n",
            "[WARNING 23-10-28 18:55:28.6924 UTC gradient_boosted_trees.cc:1829] \"goss_beta\" set but \"sampling_method\" not equal to \"GOSS\".\n",
            "[WARNING 23-10-28 18:55:28.6924 UTC gradient_boosted_trees.cc:1843] \"selective_gradient_boosting_ratio\" set but \"sampling_method\" not equal to \"SELGB\".\n",
            "[INFO 23-10-28 18:55:29.4697 UTC kernel.cc:1243] Loading model from path /tmp/tmpyybkrtsl/model/ with prefix a217c6e24c4e4752\n",
            "[INFO 23-10-28 18:55:29.4745 UTC decision_forest.cc:660] Model loaded with 42 root(s), 2212 node(s), and 10 input feature(s).\n",
            "[INFO 23-10-28 18:55:29.4745 UTC kernel.cc:1075] Use fast generic engine\n"
          ]
        },
        {
          "name": "stdout",
          "output_type": "stream",
          "text": [
            "Accuracy: 0.782608687877655 Loss:1.060815453529358\n"
          ]
        }
      ],
      "source": [
        "model = tfdf.keras.GradientBoostedTreesModel(\n",
        "    verbose=0, # Very few logs\n",
        "    features=[tfdf.keras.FeatureUsage(name=n) for n in input_features],\n",
        "    exclude_non_specified_features=True, # Only use the features in \"features\"\n",
        "\n",
        "    #num_trees=2000,\n",
        "\n",
        "    # Only for GBT.\n",
        "    # A bit slower, but great to understand the model.\n",
        "    # compute_permutation_variable_importance=True,\n",
        "\n",
        "    # Change the default hyper-parameters\n",
        "    # hyperparameter_template=\"benchmark_rank1@v1\",\n",
        "\n",
        "    #num_trees=1000,\n",
        "    #tuner=tuner\n",
        "\n",
        "    min_examples=1,\n",
        "    categorical_algorithm=\"RANDOM\",\n",
        "    #max_depth=4,\n",
        "    shrinkage=0.05,\n",
        "    #num_candidate_attributes_ratio=0.2,\n",
        "    split_axis=\"SPARSE_OBLIQUE\",\n",
        "    sparse_oblique_normalization=\"MIN_MAX\",\n",
        "    sparse_oblique_num_projections_exponent=2.0,\n",
        "    num_trees=2000,\n",
        "    #validation_ratio=0.0,\n",
        "    random_seed=1234,\n",
        "\n",
        ")\n",
        "model.fit(train_ds)\n",
        "\n",
        "self_evaluation = model.make_inspector().evaluation()\n",
        "print(f\"Accuracy: {self_evaluation.accuracy} Loss:{self_evaluation.loss}\")"
      ]
    },
    {
      "cell_type": "code",
      "execution_count": null,
      "id": "f53fa3db",
      "metadata": {
        "execution": {
          "iopub.execute_input": "2023-10-28T18:55:30.182727Z",
          "iopub.status.busy": "2023-10-28T18:55:30.181976Z",
          "iopub.status.idle": "2023-10-28T18:55:30.193999Z",
          "shell.execute_reply": "2023-10-28T18:55:30.193041Z"
        },
        "papermill": {
          "duration": 0.019378,
          "end_time": "2023-10-28T18:55:30.196672",
          "exception": false,
          "start_time": "2023-10-28T18:55:30.177294",
          "status": "completed"
        },
        "tags": [],
        "id": "f53fa3db",
        "outputId": "d5ada948-bef1-46f0-e64e-6621443d8ba6"
      },
      "outputs": [
        {
          "name": "stdout",
          "output_type": "stream",
          "text": [
            "Model: \"gradient_boosted_trees_model_1\"\n",
            "_________________________________________________________________\n",
            " Layer (type)                Output Shape              Param #   \n",
            "=================================================================\n",
            "=================================================================\n",
            "Total params: 1\n",
            "Trainable params: 0\n",
            "Non-trainable params: 1\n",
            "_________________________________________________________________\n",
            "Type: \"GRADIENT_BOOSTED_TREES\"\n",
            "Task: CLASSIFICATION\n",
            "Label: \"__LABEL\"\n",
            "\n",
            "Input Features (11):\n",
            "\tAge\n",
            "\tCabin\n",
            "\tEmbarked\n",
            "\tFare\n",
            "\tName\n",
            "\tParch\n",
            "\tPclass\n",
            "\tSex\n",
            "\tSibSp\n",
            "\tTicket_item\n",
            "\tTicket_number\n",
            "\n",
            "No weights\n",
            "\n",
            "Variable Importance: INV_MEAN_MIN_DEPTH:\n",
            "    1.           \"Sex\"  0.597073 ################\n",
            "    2.           \"Age\"  0.363764 #######\n",
            "    3.          \"Fare\"  0.264018 ###\n",
            "    4.          \"Name\"  0.207843 #\n",
            "    5.        \"Pclass\"  0.178906 \n",
            "    6. \"Ticket_number\"  0.178488 \n",
            "    7.   \"Ticket_item\"  0.177907 \n",
            "    8.      \"Embarked\"  0.177237 \n",
            "    9.         \"Parch\"  0.175481 \n",
            "   10.         \"SibSp\"  0.171800 \n",
            "\n",
            "Variable Importance: NUM_AS_ROOT:\n",
            "    1.  \"Sex\" 36.000000 ################\n",
            "    2. \"Name\"  6.000000 \n",
            "\n",
            "Variable Importance: NUM_NODES:\n",
            "    1.           \"Age\" 530.000000 ################\n",
            "    2.          \"Fare\" 311.000000 #########\n",
            "    3.          \"Name\" 66.000000 #\n",
            "    4.   \"Ticket_item\" 50.000000 #\n",
            "    5.           \"Sex\" 42.000000 #\n",
            "    6.         \"Parch\" 26.000000 \n",
            "    7. \"Ticket_number\" 21.000000 \n",
            "    8.        \"Pclass\" 17.000000 \n",
            "    9.      \"Embarked\" 16.000000 \n",
            "   10.         \"SibSp\"  6.000000 \n",
            "\n",
            "Variable Importance: SUM_SCORE:\n",
            "    1.           \"Sex\" 484.272240 ################\n",
            "    2.           \"Age\" 393.999352 #############\n",
            "    3.          \"Fare\" 323.250985 ##########\n",
            "    4.          \"Name\" 105.330212 ###\n",
            "    5.        \"Pclass\" 26.851849 \n",
            "    6.   \"Ticket_item\" 25.837695 \n",
            "    7. \"Ticket_number\" 17.652836 \n",
            "    8.      \"Embarked\"  9.217001 \n",
            "    9.         \"Parch\"  7.010211 \n",
            "   10.         \"SibSp\"  0.574055 \n",
            "\n",
            "\n",
            "\n",
            "Loss: BINOMIAL_LOG_LIKELIHOOD\n",
            "Validation loss value: 1.06082\n",
            "Number of trees per iteration: 1\n",
            "Node format: NOT_SET\n",
            "Number of trees: 42\n",
            "Total number of nodes: 2212\n",
            "\n",
            "Number of nodes by tree:\n",
            "Count: 42 Average: 52.6667 StdDev: 4.47036\n",
            "Min: 41 Max: 63 Ignored: 0\n",
            "----------------------------------------------\n",
            "[ 41, 42)  2   4.76%   4.76% ##\n",
            "[ 42, 43)  0   0.00%   4.76%\n",
            "[ 43, 44)  0   0.00%   4.76%\n",
            "[ 44, 45)  0   0.00%   4.76%\n",
            "[ 45, 46)  1   2.38%   7.14% #\n",
            "[ 46, 47)  0   0.00%   7.14%\n",
            "[ 47, 49)  2   4.76%  11.90% ##\n",
            "[ 49, 50)  5  11.90%  23.81% ####\n",
            "[ 50, 51)  0   0.00%  23.81%\n",
            "[ 51, 52)  4   9.52%  33.33% ###\n",
            "[ 52, 53)  0   0.00%  33.33%\n",
            "[ 53, 54) 13  30.95%  64.29% ##########\n",
            "[ 54, 55)  0   0.00%  64.29%\n",
            "[ 55, 57)  9  21.43%  85.71% #######\n",
            "[ 57, 58)  1   2.38%  88.10% #\n",
            "[ 58, 59)  0   0.00%  88.10%\n",
            "[ 59, 60)  3   7.14%  95.24% ##\n",
            "[ 60, 61)  0   0.00%  95.24%\n",
            "[ 61, 62)  1   2.38%  97.62% #\n",
            "[ 62, 63]  1   2.38% 100.00% #\n",
            "\n",
            "Depth by leafs:\n",
            "Count: 1127 Average: 4.8465 StdDev: 0.454147\n",
            "Min: 2 Max: 5 Ignored: 0\n",
            "----------------------------------------------\n",
            "[ 2, 3)   1   0.09%   0.09%\n",
            "[ 3, 4)  40   3.55%   3.64%\n",
            "[ 4, 5)  90   7.99%  11.62% #\n",
            "[ 5, 5] 996  88.38% 100.00% ##########\n",
            "\n",
            "Number of training obs by leaf:\n",
            "Count: 1127 Average: 29.7764 StdDev: 71.9364\n",
            "Min: 1 Max: 467 Ignored: 0\n",
            "----------------------------------------------\n",
            "[   1,  24) 884  78.44%  78.44% ##########\n",
            "[  24,  47)  79   7.01%  85.45% #\n",
            "[  47,  71)  44   3.90%  89.35%\n",
            "[  71,  94)  19   1.69%  91.04%\n",
            "[  94, 117)  13   1.15%  92.19%\n",
            "[ 117, 141)  15   1.33%  93.52%\n",
            "[ 141, 164)  24   2.13%  95.65%\n",
            "[ 164, 187)   6   0.53%  96.18%\n",
            "[ 187, 211)   4   0.35%  96.54%\n",
            "[ 211, 234)   1   0.09%  96.63%\n",
            "[ 234, 257)   1   0.09%  96.72%\n",
            "[ 257, 281)   3   0.27%  96.98%\n",
            "[ 281, 304)   2   0.18%  97.16%\n",
            "[ 304, 327)   2   0.18%  97.34%\n",
            "[ 327, 351)   2   0.18%  97.52%\n",
            "[ 351, 374)  11   0.98%  98.49%\n",
            "[ 374, 397)   5   0.44%  98.94%\n",
            "[ 397, 421)   9   0.80%  99.73%\n",
            "[ 421, 444)   1   0.09%  99.82%\n",
            "[ 444, 467]   2   0.18% 100.00%\n",
            "\n",
            "Attribute in nodes:\n",
            "\t530 : Age [NUMERICAL]\n",
            "\t311 : Fare [NUMERICAL]\n",
            "\t66 : Name [CATEGORICAL_SET]\n",
            "\t50 : Ticket_item [CATEGORICAL]\n",
            "\t42 : Sex [CATEGORICAL]\n",
            "\t26 : Parch [NUMERICAL]\n",
            "\t21 : Ticket_number [CATEGORICAL]\n",
            "\t17 : Pclass [NUMERICAL]\n",
            "\t16 : Embarked [CATEGORICAL]\n",
            "\t6 : SibSp [NUMERICAL]\n",
            "\n",
            "Attribute in nodes with depth <= 0:\n",
            "\t36 : Sex [CATEGORICAL]\n",
            "\t6 : Name [CATEGORICAL_SET]\n",
            "\n",
            "Attribute in nodes with depth <= 1:\n",
            "\t50 : Age [NUMERICAL]\n",
            "\t36 : Sex [CATEGORICAL]\n",
            "\t26 : Fare [NUMERICAL]\n",
            "\t7 : Name [CATEGORICAL_SET]\n",
            "\t5 : Pclass [NUMERICAL]\n",
            "\t2 : Ticket_number [CATEGORICAL]\n",
            "\n",
            "Attribute in nodes with depth <= 2:\n",
            "\t130 : Age [NUMERICAL]\n",
            "\t76 : Fare [NUMERICAL]\n",
            "\t36 : Sex [CATEGORICAL]\n",
            "\t19 : Name [CATEGORICAL_SET]\n",
            "\t8 : Ticket_number [CATEGORICAL]\n",
            "\t7 : Embarked [CATEGORICAL]\n",
            "\t6 : Pclass [NUMERICAL]\n",
            "\t6 : Parch [NUMERICAL]\n",
            "\t5 : Ticket_item [CATEGORICAL]\n",
            "\n",
            "Attribute in nodes with depth <= 3:\n",
            "\t270 : Age [NUMERICAL]\n",
            "\t173 : Fare [NUMERICAL]\n",
            "\t39 : Name [CATEGORICAL_SET]\n",
            "\t38 : Sex [CATEGORICAL]\n",
            "\t18 : Ticket_item [CATEGORICAL]\n",
            "\t13 : Ticket_number [CATEGORICAL]\n",
            "\t12 : Parch [NUMERICAL]\n",
            "\t12 : Embarked [CATEGORICAL]\n",
            "\t9 : Pclass [NUMERICAL]\n",
            "\t3 : SibSp [NUMERICAL]\n",
            "\n",
            "Attribute in nodes with depth <= 5:\n",
            "\t530 : Age [NUMERICAL]\n",
            "\t311 : Fare [NUMERICAL]\n",
            "\t66 : Name [CATEGORICAL_SET]\n",
            "\t50 : Ticket_item [CATEGORICAL]\n",
            "\t42 : Sex [CATEGORICAL]\n",
            "\t26 : Parch [NUMERICAL]\n",
            "\t21 : Ticket_number [CATEGORICAL]\n",
            "\t17 : Pclass [NUMERICAL]\n",
            "\t16 : Embarked [CATEGORICAL]\n",
            "\t6 : SibSp [NUMERICAL]\n",
            "\n",
            "Condition type in nodes:\n",
            "\t890 : ObliqueCondition\n",
            "\t145 : ContainsBitmapCondition\n",
            "\t50 : ContainsCondition\n",
            "Condition type in nodes with depth <= 0:\n",
            "\t40 : ContainsBitmapCondition\n",
            "\t2 : ContainsCondition\n",
            "Condition type in nodes with depth <= 1:\n",
            "\t81 : ObliqueCondition\n",
            "\t43 : ContainsBitmapCondition\n",
            "\t2 : ContainsCondition\n",
            "Condition type in nodes with depth <= 2:\n",
            "\t218 : ObliqueCondition\n",
            "\t62 : ContainsBitmapCondition\n",
            "\t13 : ContainsCondition\n",
            "Condition type in nodes with depth <= 3:\n",
            "\t467 : ObliqueCondition\n",
            "\t89 : ContainsBitmapCondition\n",
            "\t31 : ContainsCondition\n",
            "Condition type in nodes with depth <= 5:\n",
            "\t890 : ObliqueCondition\n",
            "\t145 : ContainsBitmapCondition\n",
            "\t50 : ContainsCondition\n",
            "\n",
            "Training logs:\n",
            "Number of iteration to final model: 42\n",
            "\tIter:1 train-loss:1.264594 valid-loss:1.360749  train-accuracy:0.624531 valid-accuracy:0.543478\n",
            "\tIter:2 train-loss:1.210623 valid-loss:1.320363  train-accuracy:0.624531 valid-accuracy:0.543478\n",
            "\tIter:3 train-loss:1.160657 valid-loss:1.281972  train-accuracy:0.624531 valid-accuracy:0.543478\n",
            "\tIter:4 train-loss:1.116982 valid-loss:1.250548  train-accuracy:0.624531 valid-accuracy:0.543478\n",
            "\tIter:5 train-loss:1.075170 valid-loss:1.221467  train-accuracy:0.807259 valid-accuracy:0.760870\n",
            "\tIter:6 train-loss:1.035656 valid-loss:1.199482  train-accuracy:0.822278 valid-accuracy:0.760870\n",
            "\tIter:16 train-loss:0.787670 valid-loss:1.088161  train-accuracy:0.903630 valid-accuracy:0.771739\n",
            "\tIter:26 train-loss:0.648139 valid-loss:1.066864  train-accuracy:0.921151 valid-accuracy:0.782609\n",
            "\tIter:36 train-loss:0.559101 valid-loss:1.068122  train-accuracy:0.921151 valid-accuracy:0.782609\n",
            "\tIter:46 train-loss:0.496837 valid-loss:1.064204  train-accuracy:0.929912 valid-accuracy:0.771739\n",
            "\tIter:56 train-loss:0.451017 valid-loss:1.083011  train-accuracy:0.941176 valid-accuracy:0.771739\n",
            "\tIter:66 train-loss:0.415965 valid-loss:1.105307  train-accuracy:0.946183 valid-accuracy:0.771739\n",
            "\n"
          ]
        }
      ],
      "source": [
        "model.summary()"
      ]
    },
    {
      "cell_type": "code",
      "execution_count": null,
      "id": "79f4936b",
      "metadata": {
        "execution": {
          "iopub.execute_input": "2023-10-28T18:55:30.206849Z",
          "iopub.status.busy": "2023-10-28T18:55:30.206557Z",
          "iopub.status.idle": "2023-10-28T18:55:30.636130Z",
          "shell.execute_reply": "2023-10-28T18:55:30.635276Z"
        },
        "papermill": {
          "duration": 0.436656,
          "end_time": "2023-10-28T18:55:30.637941",
          "exception": false,
          "start_time": "2023-10-28T18:55:30.201285",
          "status": "completed"
        },
        "tags": [],
        "id": "79f4936b",
        "outputId": "f08603c9-44c2-4b1f-f601-d0f7160fe4b9"
      },
      "outputs": [
        {
          "name": "stdout",
          "output_type": "stream",
          "text": [
            "Submission exported to /kaggle/working/submission.csv\n",
            "PassengerId,Survived\r\n",
            "892,0\r\n",
            "893,0\r\n",
            "894,0\r\n",
            "895,0\r\n",
            "896,0\r\n",
            "897,0\r\n",
            "898,0\r\n",
            "899,0\r\n",
            "900,1\r\n"
          ]
        }
      ],
      "source": [
        "def prediction_to_kaggle_format(model, threshold=0.5):\n",
        "    proba_survive = model.predict(serving_ds, verbose=0)[:,0]\n",
        "    return pd.DataFrame({\n",
        "        \"PassengerId\": serving_df[\"PassengerId\"],\n",
        "        \"Survived\": (proba_survive >= threshold).astype(int)\n",
        "    })\n",
        "\n",
        "def make_submission(kaggle_predictions):\n",
        "    path=\"/kaggle/working/submission.csv\"\n",
        "    kaggle_predictions.to_csv(path, index=False)\n",
        "    print(f\"Submission exported to {path}\")\n",
        "\n",
        "kaggle_predictions = prediction_to_kaggle_format(model)\n",
        "make_submission(kaggle_predictions)\n",
        "!head /kaggle/working/submission.csv"
      ]
    },
    {
      "cell_type": "code",
      "execution_count": null,
      "id": "1aad91e4",
      "metadata": {
        "execution": {
          "iopub.execute_input": "2023-10-28T18:55:30.649196Z",
          "iopub.status.busy": "2023-10-28T18:55:30.648129Z",
          "iopub.status.idle": "2023-10-28T18:56:50.376084Z",
          "shell.execute_reply": "2023-10-28T18:56:50.374828Z"
        },
        "papermill": {
          "duration": 79.735158,
          "end_time": "2023-10-28T18:56:50.377811",
          "exception": false,
          "start_time": "2023-10-28T18:55:30.642653",
          "status": "completed"
        },
        "tags": [],
        "id": "1aad91e4",
        "outputId": "c2daa138-5229-4a60-dcea-09e5a2a90252"
      },
      "outputs": [
        {
          "name": "stdout",
          "output_type": "stream",
          "text": [
            "Use /tmp/tmpohzetw3x as temporary training directory\n"
          ]
        },
        {
          "name": "stderr",
          "output_type": "stream",
          "text": [
            "[WARNING 23-10-28 18:55:30.6671 UTC gradient_boosted_trees.cc:1818] \"goss_alpha\" set but \"sampling_method\" not equal to \"GOSS\".\n",
            "[WARNING 23-10-28 18:55:30.6672 UTC gradient_boosted_trees.cc:1829] \"goss_beta\" set but \"sampling_method\" not equal to \"GOSS\".\n",
            "[WARNING 23-10-28 18:55:30.6672 UTC gradient_boosted_trees.cc:1843] \"selective_gradient_boosting_ratio\" set but \"sampling_method\" not equal to \"SELGB\".\n",
            "[INFO 23-10-28 18:56:50.0984 UTC kernel.cc:1243] Loading model from path /tmp/tmpohzetw3x/model/ with prefix 731431b6558842f5\n",
            "[INFO 23-10-28 18:56:50.1059 UTC decision_forest.cc:660] Model loaded with 32 root(s), 852 node(s), and 12 input feature(s).\n",
            "[INFO 23-10-28 18:56:50.1060 UTC abstract_model.cc:1311] Engine \"GradientBoostedTreesGeneric\" built\n",
            "[INFO 23-10-28 18:56:50.1060 UTC kernel.cc:1075] Use fast generic engine\n"
          ]
        },
        {
          "name": "stdout",
          "output_type": "stream",
          "text": [
            "Accuracy: 0.8630136847496033 Loss:0.6804219484329224\n"
          ]
        }
      ],
      "source": [
        "tuner = tfdf.tuner.RandomSearch(num_trials=1000)\n",
        "tuner.choice(\"min_examples\", [2, 5, 7, 10])\n",
        "tuner.choice(\"categorical_algorithm\", [\"CART\", \"RANDOM\"])\n",
        "\n",
        "local_search_space = tuner.choice(\"growing_strategy\", [\"LOCAL\"])\n",
        "local_search_space.choice(\"max_depth\", [3, 4, 5, 6, 8])\n",
        "\n",
        "global_search_space = tuner.choice(\"growing_strategy\", [\"BEST_FIRST_GLOBAL\"], merge=True)\n",
        "global_search_space.choice(\"max_num_nodes\", [16, 32, 64, 128, 256])\n",
        "\n",
        "#tuner.choice(\"use_hessian_gain\", [True, False])\n",
        "tuner.choice(\"shrinkage\", [0.02, 0.05, 0.10, 0.15])\n",
        "tuner.choice(\"num_candidate_attributes_ratio\", [0.2, 0.5, 0.9, 1.0])\n",
        "\n",
        "\n",
        "tuner.choice(\"split_axis\", [\"AXIS_ALIGNED\"])\n",
        "oblique_space = tuner.choice(\"split_axis\", [\"SPARSE_OBLIQUE\"], merge=True)\n",
        "oblique_space.choice(\"sparse_oblique_normalization\",\n",
        "                     [\"NONE\", \"STANDARD_DEVIATION\", \"MIN_MAX\"])\n",
        "oblique_space.choice(\"sparse_oblique_weights\", [\"BINARY\", \"CONTINUOUS\"])\n",
        "oblique_space.choice(\"sparse_oblique_num_projections_exponent\", [1.0, 1.5])\n",
        "\n",
        "# Tune the model. Notice the `tuner=tuner`.\n",
        "tuned_model = tfdf.keras.GradientBoostedTreesModel(tuner=tuner)\n",
        "tuned_model.fit(train_ds, verbose=0)\n",
        "\n",
        "tuned_self_evaluation = tuned_model.make_inspector().evaluation()\n",
        "print(f\"Accuracy: {tuned_self_evaluation.accuracy} Loss:{tuned_self_evaluation.loss}\")"
      ]
    },
    {
      "cell_type": "code",
      "execution_count": null,
      "id": "b98f8125",
      "metadata": {
        "execution": {
          "iopub.execute_input": "2023-10-28T18:56:50.388491Z",
          "iopub.status.busy": "2023-10-28T18:56:50.388242Z",
          "iopub.status.idle": "2023-10-28T18:58:21.675206Z",
          "shell.execute_reply": "2023-10-28T18:58:21.674221Z"
        },
        "papermill": {
          "duration": 91.294447,
          "end_time": "2023-10-28T18:58:21.677094",
          "exception": false,
          "start_time": "2023-10-28T18:56:50.382647",
          "status": "completed"
        },
        "tags": [],
        "id": "b98f8125",
        "outputId": "c18902ee-2685-4f62-c095-08c1a105bd32"
      },
      "outputs": [
        {
          "name": "stdout",
          "output_type": "stream",
          "text": [
            "i:0\n"
          ]
        },
        {
          "name": "stderr",
          "output_type": "stream",
          "text": [
            "[WARNING 23-10-28 18:56:50.3995 UTC gradient_boosted_trees.cc:1818] \"goss_alpha\" set but \"sampling_method\" not equal to \"GOSS\".\n",
            "[WARNING 23-10-28 18:56:50.3995 UTC gradient_boosted_trees.cc:1829] \"goss_beta\" set but \"sampling_method\" not equal to \"GOSS\".\n",
            "[WARNING 23-10-28 18:56:50.3996 UTC gradient_boosted_trees.cc:1843] \"selective_gradient_boosting_ratio\" set but \"sampling_method\" not equal to \"SELGB\".\n",
            "[INFO 23-10-28 18:56:50.7870 UTC kernel.cc:1243] Loading model from path /tmp/tmp6fpeqtnc/model/ with prefix fa385d4cc34f430a\n",
            "[INFO 23-10-28 18:56:50.7891 UTC kernel.cc:1075] Use fast generic engine\n"
          ]
        },
        {
          "name": "stdout",
          "output_type": "stream",
          "text": [
            "i:1\n"
          ]
        },
        {
          "name": "stderr",
          "output_type": "stream",
          "text": [
            "[WARNING 23-10-28 18:56:51.1121 UTC gradient_boosted_trees.cc:1818] \"goss_alpha\" set but \"sampling_method\" not equal to \"GOSS\".\n",
            "[WARNING 23-10-28 18:56:51.1121 UTC gradient_boosted_trees.cc:1829] \"goss_beta\" set but \"sampling_method\" not equal to \"GOSS\".\n",
            "[WARNING 23-10-28 18:56:51.1121 UTC gradient_boosted_trees.cc:1843] \"selective_gradient_boosting_ratio\" set but \"sampling_method\" not equal to \"SELGB\".\n",
            "[INFO 23-10-28 18:56:51.8385 UTC kernel.cc:1243] Loading model from path /tmp/tmp_cht4dqh/model/ with prefix 0135b0e4f5354143\n",
            "[INFO 23-10-28 18:56:51.8479 UTC kernel.cc:1075] Use fast generic engine\n"
          ]
        },
        {
          "name": "stdout",
          "output_type": "stream",
          "text": [
            "i:2\n"
          ]
        },
        {
          "name": "stderr",
          "output_type": "stream",
          "text": [
            "[WARNING 23-10-28 18:56:52.6830 UTC gradient_boosted_trees.cc:1818] \"goss_alpha\" set but \"sampling_method\" not equal to \"GOSS\".\n",
            "[WARNING 23-10-28 18:56:52.6830 UTC gradient_boosted_trees.cc:1829] \"goss_beta\" set but \"sampling_method\" not equal to \"GOSS\".\n",
            "[WARNING 23-10-28 18:56:52.6830 UTC gradient_boosted_trees.cc:1843] \"selective_gradient_boosting_ratio\" set but \"sampling_method\" not equal to \"SELGB\".\n",
            "[INFO 23-10-28 18:56:53.1291 UTC kernel.cc:1243] Loading model from path /tmp/tmpiu33akav/model/ with prefix ff5ce2ce3521419c\n",
            "[INFO 23-10-28 18:56:53.1314 UTC kernel.cc:1075] Use fast generic engine\n"
          ]
        },
        {
          "name": "stdout",
          "output_type": "stream",
          "text": [
            "i:3\n"
          ]
        },
        {
          "name": "stderr",
          "output_type": "stream",
          "text": [
            "[WARNING 23-10-28 18:56:53.4373 UTC gradient_boosted_trees.cc:1818] \"goss_alpha\" set but \"sampling_method\" not equal to \"GOSS\".\n",
            "[WARNING 23-10-28 18:56:53.4374 UTC gradient_boosted_trees.cc:1829] \"goss_beta\" set but \"sampling_method\" not equal to \"GOSS\".\n",
            "[WARNING 23-10-28 18:56:53.4374 UTC gradient_boosted_trees.cc:1843] \"selective_gradient_boosting_ratio\" set but \"sampling_method\" not equal to \"SELGB\".\n",
            "[INFO 23-10-28 18:56:54.3364 UTC kernel.cc:1243] Loading model from path /tmp/tmpzieilpdk/model/ with prefix 4e0207991c544fc1\n",
            "[INFO 23-10-28 18:56:54.3489 UTC kernel.cc:1075] Use fast generic engine\n"
          ]
        },
        {
          "name": "stdout",
          "output_type": "stream",
          "text": [
            "i:4\n"
          ]
        },
        {
          "name": "stderr",
          "output_type": "stream",
          "text": [
            "[WARNING 23-10-28 18:56:54.6565 UTC gradient_boosted_trees.cc:1818] \"goss_alpha\" set but \"sampling_method\" not equal to \"GOSS\".\n",
            "[WARNING 23-10-28 18:56:54.6565 UTC gradient_boosted_trees.cc:1829] \"goss_beta\" set but \"sampling_method\" not equal to \"GOSS\".\n",
            "[WARNING 23-10-28 18:56:54.6565 UTC gradient_boosted_trees.cc:1843] \"selective_gradient_boosting_ratio\" set but \"sampling_method\" not equal to \"SELGB\".\n",
            "[INFO 23-10-28 18:56:55.0782 UTC kernel.cc:1243] Loading model from path /tmp/tmpapru07c5/model/ with prefix 51279421742f4503\n",
            "[INFO 23-10-28 18:56:55.0808 UTC kernel.cc:1075] Use fast generic engine\n"
          ]
        },
        {
          "name": "stdout",
          "output_type": "stream",
          "text": [
            "i:5\n"
          ]
        },
        {
          "name": "stderr",
          "output_type": "stream",
          "text": [
            "[WARNING 23-10-28 18:56:55.4066 UTC gradient_boosted_trees.cc:1818] \"goss_alpha\" set but \"sampling_method\" not equal to \"GOSS\".\n",
            "[WARNING 23-10-28 18:56:55.4067 UTC gradient_boosted_trees.cc:1829] \"goss_beta\" set but \"sampling_method\" not equal to \"GOSS\".\n",
            "[WARNING 23-10-28 18:56:55.4067 UTC gradient_boosted_trees.cc:1843] \"selective_gradient_boosting_ratio\" set but \"sampling_method\" not equal to \"SELGB\".\n",
            "[INFO 23-10-28 18:56:55.7945 UTC kernel.cc:1243] Loading model from path /tmp/tmprsb2p23d/model/ with prefix 014234aa4b7f4f4a\n",
            "[INFO 23-10-28 18:56:55.7964 UTC kernel.cc:1075] Use fast generic engine\n"
          ]
        },
        {
          "name": "stdout",
          "output_type": "stream",
          "text": [
            "i:6\n"
          ]
        },
        {
          "name": "stderr",
          "output_type": "stream",
          "text": [
            "[WARNING 23-10-28 18:56:56.0994 UTC gradient_boosted_trees.cc:1818] \"goss_alpha\" set but \"sampling_method\" not equal to \"GOSS\".\n",
            "[WARNING 23-10-28 18:56:56.0994 UTC gradient_boosted_trees.cc:1829] \"goss_beta\" set but \"sampling_method\" not equal to \"GOSS\".\n",
            "[WARNING 23-10-28 18:56:56.0994 UTC gradient_boosted_trees.cc:1843] \"selective_gradient_boosting_ratio\" set but \"sampling_method\" not equal to \"SELGB\".\n",
            "[INFO 23-10-28 18:56:56.5544 UTC kernel.cc:1243] Loading model from path /tmp/tmpfh6pzkqx/model/ with prefix ddf4f6d59cd7468c\n",
            "[INFO 23-10-28 18:56:56.5581 UTC kernel.cc:1075] Use fast generic engine\n"
          ]
        },
        {
          "name": "stdout",
          "output_type": "stream",
          "text": [
            "i:7\n"
          ]
        },
        {
          "name": "stderr",
          "output_type": "stream",
          "text": [
            "[WARNING 23-10-28 18:56:56.8831 UTC gradient_boosted_trees.cc:1818] \"goss_alpha\" set but \"sampling_method\" not equal to \"GOSS\".\n",
            "[WARNING 23-10-28 18:56:56.8831 UTC gradient_boosted_trees.cc:1829] \"goss_beta\" set but \"sampling_method\" not equal to \"GOSS\".\n",
            "[WARNING 23-10-28 18:56:56.8832 UTC gradient_boosted_trees.cc:1843] \"selective_gradient_boosting_ratio\" set but \"sampling_method\" not equal to \"SELGB\".\n",
            "[INFO 23-10-28 18:56:57.6673 UTC kernel.cc:1243] Loading model from path /tmp/tmp5_3rwaip/model/ with prefix 75b19014b3b64d7c\n",
            "[INFO 23-10-28 18:56:57.6767 UTC kernel.cc:1075] Use fast generic engine\n"
          ]
        },
        {
          "name": "stdout",
          "output_type": "stream",
          "text": [
            "i:8\n"
          ]
        },
        {
          "name": "stderr",
          "output_type": "stream",
          "text": [
            "[WARNING 23-10-28 18:56:57.9903 UTC gradient_boosted_trees.cc:1818] \"goss_alpha\" set but \"sampling_method\" not equal to \"GOSS\".\n",
            "[WARNING 23-10-28 18:56:57.9903 UTC gradient_boosted_trees.cc:1829] \"goss_beta\" set but \"sampling_method\" not equal to \"GOSS\".\n",
            "[WARNING 23-10-28 18:56:57.9903 UTC gradient_boosted_trees.cc:1843] \"selective_gradient_boosting_ratio\" set but \"sampling_method\" not equal to \"SELGB\".\n",
            "[INFO 23-10-28 18:56:58.8263 UTC kernel.cc:1243] Loading model from path /tmp/tmp4v77fwu0/model/ with prefix ddc8f4e455ed452b\n",
            "[INFO 23-10-28 18:56:58.8313 UTC kernel.cc:1075] Use fast generic engine\n"
          ]
        },
        {
          "name": "stdout",
          "output_type": "stream",
          "text": [
            "i:9\n"
          ]
        },
        {
          "name": "stderr",
          "output_type": "stream",
          "text": [
            "[WARNING 23-10-28 18:56:59.2228 UTC gradient_boosted_trees.cc:1818] \"goss_alpha\" set but \"sampling_method\" not equal to \"GOSS\".\n",
            "[WARNING 23-10-28 18:56:59.2228 UTC gradient_boosted_trees.cc:1829] \"goss_beta\" set but \"sampling_method\" not equal to \"GOSS\".\n",
            "[WARNING 23-10-28 18:56:59.2228 UTC gradient_boosted_trees.cc:1843] \"selective_gradient_boosting_ratio\" set but \"sampling_method\" not equal to \"SELGB\".\n",
            "[INFO 23-10-28 18:56:59.8798 UTC kernel.cc:1243] Loading model from path /tmp/tmplr5hd050/model/ with prefix c539833f9c744387\n",
            "[INFO 23-10-28 18:56:59.8868 UTC kernel.cc:1075] Use fast generic engine\n"
          ]
        },
        {
          "name": "stdout",
          "output_type": "stream",
          "text": [
            "i:10\n"
          ]
        },
        {
          "name": "stderr",
          "output_type": "stream",
          "text": [
            "[WARNING 23-10-28 18:57:00.2022 UTC gradient_boosted_trees.cc:1818] \"goss_alpha\" set but \"sampling_method\" not equal to \"GOSS\".\n",
            "[WARNING 23-10-28 18:57:00.2022 UTC gradient_boosted_trees.cc:1829] \"goss_beta\" set but \"sampling_method\" not equal to \"GOSS\".\n",
            "[WARNING 23-10-28 18:57:00.2022 UTC gradient_boosted_trees.cc:1843] \"selective_gradient_boosting_ratio\" set but \"sampling_method\" not equal to \"SELGB\".\n",
            "[INFO 23-10-28 18:57:00.6416 UTC kernel.cc:1243] Loading model from path /tmp/tmpz0_8j6x8/model/ with prefix 026c85b92d6b4ea3\n",
            "[INFO 23-10-28 18:57:00.6444 UTC abstract_model.cc:1311] Engine \"GradientBoostedTreesQuickScorerExtended\" built\n",
            "[INFO 23-10-28 18:57:00.6444 UTC kernel.cc:1075] Use fast generic engine\n"
          ]
        },
        {
          "name": "stdout",
          "output_type": "stream",
          "text": [
            "i:11\n"
          ]
        },
        {
          "name": "stderr",
          "output_type": "stream",
          "text": [
            "[WARNING 23-10-28 18:57:01.1324 UTC gradient_boosted_trees.cc:1818] \"goss_alpha\" set but \"sampling_method\" not equal to \"GOSS\".\n",
            "[WARNING 23-10-28 18:57:01.1324 UTC gradient_boosted_trees.cc:1829] \"goss_beta\" set but \"sampling_method\" not equal to \"GOSS\".\n",
            "[WARNING 23-10-28 18:57:01.1324 UTC gradient_boosted_trees.cc:1843] \"selective_gradient_boosting_ratio\" set but \"sampling_method\" not equal to \"SELGB\".\n",
            "[INFO 23-10-28 18:57:01.7500 UTC kernel.cc:1243] Loading model from path /tmp/tmpyxodkdwi/model/ with prefix 6469a4e2e3894720\n",
            "[INFO 23-10-28 18:57:01.7570 UTC kernel.cc:1075] Use fast generic engine\n"
          ]
        },
        {
          "name": "stdout",
          "output_type": "stream",
          "text": [
            "i:12\n"
          ]
        },
        {
          "name": "stderr",
          "output_type": "stream",
          "text": [
            "[WARNING 23-10-28 18:57:02.0703 UTC gradient_boosted_trees.cc:1818] \"goss_alpha\" set but \"sampling_method\" not equal to \"GOSS\".\n",
            "[WARNING 23-10-28 18:57:02.0704 UTC gradient_boosted_trees.cc:1829] \"goss_beta\" set but \"sampling_method\" not equal to \"GOSS\".\n",
            "[WARNING 23-10-28 18:57:02.0704 UTC gradient_boosted_trees.cc:1843] \"selective_gradient_boosting_ratio\" set but \"sampling_method\" not equal to \"SELGB\".\n",
            "[INFO 23-10-28 18:57:02.5154 UTC kernel.cc:1243] Loading model from path /tmp/tmpcsjqrfry/model/ with prefix 94c5645adbff4b67\n",
            "[INFO 23-10-28 18:57:02.5184 UTC kernel.cc:1075] Use fast generic engine\n"
          ]
        },
        {
          "name": "stdout",
          "output_type": "stream",
          "text": [
            "i:13\n"
          ]
        },
        {
          "name": "stderr",
          "output_type": "stream",
          "text": [
            "[WARNING 23-10-28 18:57:02.8305 UTC gradient_boosted_trees.cc:1818] \"goss_alpha\" set but \"sampling_method\" not equal to \"GOSS\".\n",
            "[WARNING 23-10-28 18:57:02.8305 UTC gradient_boosted_trees.cc:1829] \"goss_beta\" set but \"sampling_method\" not equal to \"GOSS\".\n",
            "[WARNING 23-10-28 18:57:02.8305 UTC gradient_boosted_trees.cc:1843] \"selective_gradient_boosting_ratio\" set but \"sampling_method\" not equal to \"SELGB\".\n",
            "[INFO 23-10-28 18:57:03.3705 UTC kernel.cc:1243] Loading model from path /tmp/tmpfs_t145n/model/ with prefix d337c9a632b041d3\n",
            "[INFO 23-10-28 18:57:03.3763 UTC kernel.cc:1075] Use fast generic engine\n"
          ]
        },
        {
          "name": "stdout",
          "output_type": "stream",
          "text": [
            "i:14\n"
          ]
        },
        {
          "name": "stderr",
          "output_type": "stream",
          "text": [
            "[WARNING 23-10-28 18:57:03.6861 UTC gradient_boosted_trees.cc:1818] \"goss_alpha\" set but \"sampling_method\" not equal to \"GOSS\".\n",
            "[WARNING 23-10-28 18:57:03.6861 UTC gradient_boosted_trees.cc:1829] \"goss_beta\" set but \"sampling_method\" not equal to \"GOSS\".\n",
            "[WARNING 23-10-28 18:57:03.6861 UTC gradient_boosted_trees.cc:1843] \"selective_gradient_boosting_ratio\" set but \"sampling_method\" not equal to \"SELGB\".\n",
            "[INFO 23-10-28 18:57:04.1454 UTC kernel.cc:1243] Loading model from path /tmp/tmpo_o8olft/model/ with prefix e9b338c97f6945fc\n",
            "[INFO 23-10-28 18:57:04.1483 UTC kernel.cc:1075] Use fast generic engine\n"
          ]
        },
        {
          "name": "stdout",
          "output_type": "stream",
          "text": [
            "i:15\n"
          ]
        },
        {
          "name": "stderr",
          "output_type": "stream",
          "text": [
            "[WARNING 23-10-28 18:57:04.4456 UTC gradient_boosted_trees.cc:1818] \"goss_alpha\" set but \"sampling_method\" not equal to \"GOSS\".\n",
            "[WARNING 23-10-28 18:57:04.4456 UTC gradient_boosted_trees.cc:1829] \"goss_beta\" set but \"sampling_method\" not equal to \"GOSS\".\n",
            "[WARNING 23-10-28 18:57:04.4457 UTC gradient_boosted_trees.cc:1843] \"selective_gradient_boosting_ratio\" set but \"sampling_method\" not equal to \"SELGB\".\n",
            "[INFO 23-10-28 18:57:04.9018 UTC kernel.cc:1243] Loading model from path /tmp/tmpwyopl4ip/model/ with prefix a28e73719190499a\n",
            "[INFO 23-10-28 18:57:04.9054 UTC kernel.cc:1075] Use fast generic engine\n"
          ]
        },
        {
          "name": "stdout",
          "output_type": "stream",
          "text": [
            "i:16\n"
          ]
        },
        {
          "name": "stderr",
          "output_type": "stream",
          "text": [
            "[WARNING 23-10-28 18:57:05.3711 UTC gradient_boosted_trees.cc:1818] \"goss_alpha\" set but \"sampling_method\" not equal to \"GOSS\".\n",
            "[WARNING 23-10-28 18:57:05.3711 UTC gradient_boosted_trees.cc:1829] \"goss_beta\" set but \"sampling_method\" not equal to \"GOSS\".\n",
            "[WARNING 23-10-28 18:57:05.3711 UTC gradient_boosted_trees.cc:1843] \"selective_gradient_boosting_ratio\" set but \"sampling_method\" not equal to \"SELGB\".\n",
            "[INFO 23-10-28 18:57:05.9563 UTC kernel.cc:1243] Loading model from path /tmp/tmp3resp16c/model/ with prefix 8164fc3c42ed45c8\n",
            "[INFO 23-10-28 18:57:05.9627 UTC kernel.cc:1075] Use fast generic engine\n"
          ]
        },
        {
          "name": "stdout",
          "output_type": "stream",
          "text": [
            "i:17\n"
          ]
        },
        {
          "name": "stderr",
          "output_type": "stream",
          "text": [
            "[WARNING 23-10-28 18:57:06.2669 UTC gradient_boosted_trees.cc:1818] \"goss_alpha\" set but \"sampling_method\" not equal to \"GOSS\".\n",
            "[WARNING 23-10-28 18:57:06.2669 UTC gradient_boosted_trees.cc:1829] \"goss_beta\" set but \"sampling_method\" not equal to \"GOSS\".\n",
            "[WARNING 23-10-28 18:57:06.2669 UTC gradient_boosted_trees.cc:1843] \"selective_gradient_boosting_ratio\" set but \"sampling_method\" not equal to \"SELGB\".\n",
            "[INFO 23-10-28 18:57:06.8451 UTC kernel.cc:1243] Loading model from path /tmp/tmp2a9793_r/model/ with prefix b385077180554540\n",
            "[INFO 23-10-28 18:57:06.8514 UTC kernel.cc:1075] Use fast generic engine\n"
          ]
        },
        {
          "name": "stdout",
          "output_type": "stream",
          "text": [
            "i:18\n"
          ]
        },
        {
          "name": "stderr",
          "output_type": "stream",
          "text": [
            "[WARNING 23-10-28 18:57:07.1667 UTC gradient_boosted_trees.cc:1818] \"goss_alpha\" set but \"sampling_method\" not equal to \"GOSS\".\n",
            "[WARNING 23-10-28 18:57:07.1668 UTC gradient_boosted_trees.cc:1829] \"goss_beta\" set but \"sampling_method\" not equal to \"GOSS\".\n",
            "[WARNING 23-10-28 18:57:07.1668 UTC gradient_boosted_trees.cc:1843] \"selective_gradient_boosting_ratio\" set but \"sampling_method\" not equal to \"SELGB\".\n",
            "[INFO 23-10-28 18:57:07.7232 UTC kernel.cc:1243] Loading model from path /tmp/tmp8oedq2lv/model/ with prefix 0f2eff4bcb854d44\n",
            "[INFO 23-10-28 18:57:07.7289 UTC kernel.cc:1075] Use fast generic engine\n"
          ]
        },
        {
          "name": "stdout",
          "output_type": "stream",
          "text": [
            "i:19\n"
          ]
        },
        {
          "name": "stderr",
          "output_type": "stream",
          "text": [
            "[WARNING 23-10-28 18:57:08.0436 UTC gradient_boosted_trees.cc:1818] \"goss_alpha\" set but \"sampling_method\" not equal to \"GOSS\".\n",
            "[WARNING 23-10-28 18:57:08.0436 UTC gradient_boosted_trees.cc:1829] \"goss_beta\" set but \"sampling_method\" not equal to \"GOSS\".\n",
            "[WARNING 23-10-28 18:57:08.0436 UTC gradient_boosted_trees.cc:1843] \"selective_gradient_boosting_ratio\" set but \"sampling_method\" not equal to \"SELGB\".\n",
            "[INFO 23-10-28 18:57:08.7956 UTC kernel.cc:1243] Loading model from path /tmp/tmp_2jjp1h_/model/ with prefix a19085c71ad449e0\n",
            "[INFO 23-10-28 18:57:08.8041 UTC kernel.cc:1075] Use fast generic engine\n"
          ]
        },
        {
          "name": "stdout",
          "output_type": "stream",
          "text": [
            "i:20\n"
          ]
        },
        {
          "name": "stderr",
          "output_type": "stream",
          "text": [
            "[WARNING 23-10-28 18:57:09.1213 UTC gradient_boosted_trees.cc:1818] \"goss_alpha\" set but \"sampling_method\" not equal to \"GOSS\".\n",
            "[WARNING 23-10-28 18:57:09.1214 UTC gradient_boosted_trees.cc:1829] \"goss_beta\" set but \"sampling_method\" not equal to \"GOSS\".\n",
            "[WARNING 23-10-28 18:57:09.1214 UTC gradient_boosted_trees.cc:1843] \"selective_gradient_boosting_ratio\" set but \"sampling_method\" not equal to \"SELGB\".\n",
            "[INFO 23-10-28 18:57:09.7590 UTC kernel.cc:1243] Loading model from path /tmp/tmpyai8fmen/model/ with prefix c5039a3d31dc4ddd\n",
            "[INFO 23-10-28 18:57:09.7688 UTC kernel.cc:1075] Use fast generic engine\n"
          ]
        },
        {
          "name": "stdout",
          "output_type": "stream",
          "text": [
            "i:21\n"
          ]
        },
        {
          "name": "stderr",
          "output_type": "stream",
          "text": [
            "[WARNING 23-10-28 18:57:10.0751 UTC gradient_boosted_trees.cc:1818] \"goss_alpha\" set but \"sampling_method\" not equal to \"GOSS\".\n",
            "[WARNING 23-10-28 18:57:10.0751 UTC gradient_boosted_trees.cc:1829] \"goss_beta\" set but \"sampling_method\" not equal to \"GOSS\".\n",
            "[WARNING 23-10-28 18:57:10.0751 UTC gradient_boosted_trees.cc:1843] \"selective_gradient_boosting_ratio\" set but \"sampling_method\" not equal to \"SELGB\".\n",
            "[INFO 23-10-28 18:57:10.4810 UTC kernel.cc:1243] Loading model from path /tmp/tmp9q52xk0z/model/ with prefix 92c8b7270c1c4589\n",
            "[INFO 23-10-28 18:57:10.4835 UTC kernel.cc:1075] Use fast generic engine\n"
          ]
        },
        {
          "name": "stdout",
          "output_type": "stream",
          "text": [
            "i:22\n"
          ]
        },
        {
          "name": "stderr",
          "output_type": "stream",
          "text": [
            "[WARNING 23-10-28 18:57:10.7922 UTC gradient_boosted_trees.cc:1818] \"goss_alpha\" set but \"sampling_method\" not equal to \"GOSS\".\n",
            "[WARNING 23-10-28 18:57:10.7922 UTC gradient_boosted_trees.cc:1829] \"goss_beta\" set but \"sampling_method\" not equal to \"GOSS\".\n",
            "[WARNING 23-10-28 18:57:10.7922 UTC gradient_boosted_trees.cc:1843] \"selective_gradient_boosting_ratio\" set but \"sampling_method\" not equal to \"SELGB\".\n",
            "[INFO 23-10-28 18:57:11.2332 UTC kernel.cc:1243] Loading model from path /tmp/tmplyeg822y/model/ with prefix edb49bd28adb41da\n",
            "[INFO 23-10-28 18:57:11.2362 UTC abstract_model.cc:1311] Engine \"GradientBoostedTreesQuickScorerExtended\" built\n",
            "[INFO 23-10-28 18:57:11.2362 UTC kernel.cc:1075] Use fast generic engine\n"
          ]
        },
        {
          "name": "stdout",
          "output_type": "stream",
          "text": [
            "i:23\n"
          ]
        },
        {
          "name": "stderr",
          "output_type": "stream",
          "text": [
            "[WARNING 23-10-28 18:57:11.5543 UTC gradient_boosted_trees.cc:1818] \"goss_alpha\" set but \"sampling_method\" not equal to \"GOSS\".\n",
            "[WARNING 23-10-28 18:57:11.5543 UTC gradient_boosted_trees.cc:1829] \"goss_beta\" set but \"sampling_method\" not equal to \"GOSS\".\n",
            "[WARNING 23-10-28 18:57:11.5543 UTC gradient_boosted_trees.cc:1843] \"selective_gradient_boosting_ratio\" set but \"sampling_method\" not equal to \"SELGB\".\n",
            "[INFO 23-10-28 18:57:12.0437 UTC kernel.cc:1243] Loading model from path /tmp/tmpsac1gjk8/model/ with prefix 8023c88bd4924a13\n",
            "[INFO 23-10-28 18:57:12.0479 UTC kernel.cc:1075] Use fast generic engine\n"
          ]
        },
        {
          "name": "stdout",
          "output_type": "stream",
          "text": [
            "i:24\n"
          ]
        },
        {
          "name": "stderr",
          "output_type": "stream",
          "text": [
            "[WARNING 23-10-28 18:57:12.4774 UTC gradient_boosted_trees.cc:1818] \"goss_alpha\" set but \"sampling_method\" not equal to \"GOSS\".\n",
            "[WARNING 23-10-28 18:57:12.4775 UTC gradient_boosted_trees.cc:1829] \"goss_beta\" set but \"sampling_method\" not equal to \"GOSS\".\n",
            "[WARNING 23-10-28 18:57:12.4775 UTC gradient_boosted_trees.cc:1843] \"selective_gradient_boosting_ratio\" set but \"sampling_method\" not equal to \"SELGB\".\n",
            "[INFO 23-10-28 18:57:12.9030 UTC kernel.cc:1243] Loading model from path /tmp/tmpljti1329/model/ with prefix 0719123671e74e9e\n",
            "[INFO 23-10-28 18:57:12.9059 UTC kernel.cc:1075] Use fast generic engine\n"
          ]
        },
        {
          "name": "stdout",
          "output_type": "stream",
          "text": [
            "i:25\n"
          ]
        },
        {
          "name": "stderr",
          "output_type": "stream",
          "text": [
            "[WARNING 23-10-28 18:57:13.3993 UTC gradient_boosted_trees.cc:1818] \"goss_alpha\" set but \"sampling_method\" not equal to \"GOSS\".\n",
            "[WARNING 23-10-28 18:57:13.3993 UTC gradient_boosted_trees.cc:1829] \"goss_beta\" set but \"sampling_method\" not equal to \"GOSS\".\n",
            "[WARNING 23-10-28 18:57:13.3993 UTC gradient_boosted_trees.cc:1843] \"selective_gradient_boosting_ratio\" set but \"sampling_method\" not equal to \"SELGB\".\n",
            "[INFO 23-10-28 18:57:13.9812 UTC kernel.cc:1243] Loading model from path /tmp/tmps9yqc2g4/model/ with prefix 3a5a2ef10b3145cd\n",
            "[INFO 23-10-28 18:57:13.9869 UTC kernel.cc:1075] Use fast generic engine\n"
          ]
        },
        {
          "name": "stdout",
          "output_type": "stream",
          "text": [
            "i:26\n"
          ]
        },
        {
          "name": "stderr",
          "output_type": "stream",
          "text": [
            "[WARNING 23-10-28 18:57:14.2952 UTC gradient_boosted_trees.cc:1818] \"goss_alpha\" set but \"sampling_method\" not equal to \"GOSS\".\n",
            "[WARNING 23-10-28 18:57:14.2952 UTC gradient_boosted_trees.cc:1829] \"goss_beta\" set but \"sampling_method\" not equal to \"GOSS\".\n",
            "[WARNING 23-10-28 18:57:14.2952 UTC gradient_boosted_trees.cc:1843] \"selective_gradient_boosting_ratio\" set but \"sampling_method\" not equal to \"SELGB\".\n",
            "[INFO 23-10-28 18:57:14.8130 UTC kernel.cc:1243] Loading model from path /tmp/tmpjre77tjk/model/ with prefix 0d7fee71e4164c44\n",
            "[INFO 23-10-28 18:57:14.8184 UTC kernel.cc:1075] Use fast generic engine\n"
          ]
        },
        {
          "name": "stdout",
          "output_type": "stream",
          "text": [
            "i:27\n"
          ]
        },
        {
          "name": "stderr",
          "output_type": "stream",
          "text": [
            "[WARNING 23-10-28 18:57:15.1430 UTC gradient_boosted_trees.cc:1818] \"goss_alpha\" set but \"sampling_method\" not equal to \"GOSS\".\n",
            "[WARNING 23-10-28 18:57:15.1430 UTC gradient_boosted_trees.cc:1829] \"goss_beta\" set but \"sampling_method\" not equal to \"GOSS\".\n",
            "[WARNING 23-10-28 18:57:15.1430 UTC gradient_boosted_trees.cc:1843] \"selective_gradient_boosting_ratio\" set but \"sampling_method\" not equal to \"SELGB\".\n",
            "[INFO 23-10-28 18:57:15.5911 UTC kernel.cc:1243] Loading model from path /tmp/tmpn_ykw72g/model/ with prefix 2674e64401c4424c\n",
            "[INFO 23-10-28 18:57:15.5943 UTC kernel.cc:1075] Use fast generic engine\n"
          ]
        },
        {
          "name": "stdout",
          "output_type": "stream",
          "text": [
            "i:28\n"
          ]
        },
        {
          "name": "stderr",
          "output_type": "stream",
          "text": [
            "[WARNING 23-10-28 18:57:15.9024 UTC gradient_boosted_trees.cc:1818] \"goss_alpha\" set but \"sampling_method\" not equal to \"GOSS\".\n",
            "[WARNING 23-10-28 18:57:15.9025 UTC gradient_boosted_trees.cc:1829] \"goss_beta\" set but \"sampling_method\" not equal to \"GOSS\".\n",
            "[WARNING 23-10-28 18:57:15.9025 UTC gradient_boosted_trees.cc:1843] \"selective_gradient_boosting_ratio\" set but \"sampling_method\" not equal to \"SELGB\".\n",
            "[INFO 23-10-28 18:57:16.7132 UTC kernel.cc:1243] Loading model from path /tmp/tmpz4l_cupi/model/ with prefix 4b7482a8cbbb48b9\n",
            "[INFO 23-10-28 18:57:16.7162 UTC kernel.cc:1075] Use fast generic engine\n"
          ]
        },
        {
          "name": "stdout",
          "output_type": "stream",
          "text": [
            "i:29\n"
          ]
        },
        {
          "name": "stderr",
          "output_type": "stream",
          "text": [
            "[WARNING 23-10-28 18:57:17.2236 UTC gradient_boosted_trees.cc:1818] \"goss_alpha\" set but \"sampling_method\" not equal to \"GOSS\".\n",
            "[WARNING 23-10-28 18:57:17.2236 UTC gradient_boosted_trees.cc:1829] \"goss_beta\" set but \"sampling_method\" not equal to \"GOSS\".\n",
            "[WARNING 23-10-28 18:57:17.2236 UTC gradient_boosted_trees.cc:1843] \"selective_gradient_boosting_ratio\" set but \"sampling_method\" not equal to \"SELGB\".\n",
            "[INFO 23-10-28 18:57:17.8174 UTC kernel.cc:1243] Loading model from path /tmp/tmpgz1qlf9m/model/ with prefix 00ac68e0a4b44c05\n",
            "[INFO 23-10-28 18:57:17.8244 UTC kernel.cc:1075] Use fast generic engine\n"
          ]
        },
        {
          "name": "stdout",
          "output_type": "stream",
          "text": [
            "i:30\n"
          ]
        },
        {
          "name": "stderr",
          "output_type": "stream",
          "text": [
            "[WARNING 23-10-28 18:57:18.1489 UTC gradient_boosted_trees.cc:1818] \"goss_alpha\" set but \"sampling_method\" not equal to \"GOSS\".\n",
            "[WARNING 23-10-28 18:57:18.1490 UTC gradient_boosted_trees.cc:1829] \"goss_beta\" set but \"sampling_method\" not equal to \"GOSS\".\n",
            "[WARNING 23-10-28 18:57:18.1490 UTC gradient_boosted_trees.cc:1843] \"selective_gradient_boosting_ratio\" set but \"sampling_method\" not equal to \"SELGB\".\n",
            "[INFO 23-10-28 18:57:19.0104 UTC kernel.cc:1243] Loading model from path /tmp/tmpcybxj2v0/model/ with prefix 1b352308a024420d\n",
            "[INFO 23-10-28 18:57:19.0235 UTC kernel.cc:1075] Use fast generic engine\n"
          ]
        },
        {
          "name": "stdout",
          "output_type": "stream",
          "text": [
            "i:31\n"
          ]
        },
        {
          "name": "stderr",
          "output_type": "stream",
          "text": [
            "[WARNING 23-10-28 18:57:19.3366 UTC gradient_boosted_trees.cc:1818] \"goss_alpha\" set but \"sampling_method\" not equal to \"GOSS\".\n",
            "[WARNING 23-10-28 18:57:19.3366 UTC gradient_boosted_trees.cc:1829] \"goss_beta\" set but \"sampling_method\" not equal to \"GOSS\".\n",
            "[WARNING 23-10-28 18:57:19.3366 UTC gradient_boosted_trees.cc:1843] \"selective_gradient_boosting_ratio\" set but \"sampling_method\" not equal to \"SELGB\".\n",
            "[INFO 23-10-28 18:57:19.8604 UTC kernel.cc:1243] Loading model from path /tmp/tmpmnk5bsz0/model/ with prefix 40eebd5685034f03\n",
            "[INFO 23-10-28 18:57:19.8652 UTC kernel.cc:1075] Use fast generic engine\n"
          ]
        },
        {
          "name": "stdout",
          "output_type": "stream",
          "text": [
            "i:32\n"
          ]
        },
        {
          "name": "stderr",
          "output_type": "stream",
          "text": [
            "[WARNING 23-10-28 18:57:20.1691 UTC gradient_boosted_trees.cc:1818] \"goss_alpha\" set but \"sampling_method\" not equal to \"GOSS\".\n",
            "[WARNING 23-10-28 18:57:20.1691 UTC gradient_boosted_trees.cc:1829] \"goss_beta\" set but \"sampling_method\" not equal to \"GOSS\".\n",
            "[WARNING 23-10-28 18:57:20.1691 UTC gradient_boosted_trees.cc:1843] \"selective_gradient_boosting_ratio\" set but \"sampling_method\" not equal to \"SELGB\".\n",
            "[INFO 23-10-28 18:57:20.5903 UTC kernel.cc:1243] Loading model from path /tmp/tmp3g4ux1jv/model/ with prefix 9de9c1faa2be4bd3\n",
            "[INFO 23-10-28 18:57:20.5932 UTC kernel.cc:1075] Use fast generic engine\n"
          ]
        },
        {
          "name": "stdout",
          "output_type": "stream",
          "text": [
            "i:33\n"
          ]
        },
        {
          "name": "stderr",
          "output_type": "stream",
          "text": [
            "[WARNING 23-10-28 18:57:20.9071 UTC gradient_boosted_trees.cc:1818] \"goss_alpha\" set but \"sampling_method\" not equal to \"GOSS\".\n",
            "[WARNING 23-10-28 18:57:20.9071 UTC gradient_boosted_trees.cc:1829] \"goss_beta\" set but \"sampling_method\" not equal to \"GOSS\".\n",
            "[WARNING 23-10-28 18:57:20.9071 UTC gradient_boosted_trees.cc:1843] \"selective_gradient_boosting_ratio\" set but \"sampling_method\" not equal to \"SELGB\".\n",
            "[INFO 23-10-28 18:57:21.5104 UTC kernel.cc:1243] Loading model from path /tmp/tmp23z7kzx3/model/ with prefix b952c7b95d7b418b\n",
            "[INFO 23-10-28 18:57:21.5168 UTC abstract_model.cc:1311] Engine \"GradientBoostedTreesQuickScorerExtended\" built\n",
            "[INFO 23-10-28 18:57:21.5168 UTC kernel.cc:1075] Use fast generic engine\n"
          ]
        },
        {
          "name": "stdout",
          "output_type": "stream",
          "text": [
            "i:34\n"
          ]
        },
        {
          "name": "stderr",
          "output_type": "stream",
          "text": [
            "[WARNING 23-10-28 18:57:21.8490 UTC gradient_boosted_trees.cc:1818] \"goss_alpha\" set but \"sampling_method\" not equal to \"GOSS\".\n",
            "[WARNING 23-10-28 18:57:21.8490 UTC gradient_boosted_trees.cc:1829] \"goss_beta\" set but \"sampling_method\" not equal to \"GOSS\".\n",
            "[WARNING 23-10-28 18:57:21.8490 UTC gradient_boosted_trees.cc:1843] \"selective_gradient_boosting_ratio\" set but \"sampling_method\" not equal to \"SELGB\".\n",
            "[INFO 23-10-28 18:57:22.3470 UTC kernel.cc:1243] Loading model from path /tmp/tmpy689rrj1/model/ with prefix 95a0bf6b3c2941f9\n",
            "[INFO 23-10-28 18:57:22.3512 UTC kernel.cc:1075] Use fast generic engine\n"
          ]
        },
        {
          "name": "stdout",
          "output_type": "stream",
          "text": [
            "i:35\n"
          ]
        },
        {
          "name": "stderr",
          "output_type": "stream",
          "text": [
            "[WARNING 23-10-28 18:57:22.6526 UTC gradient_boosted_trees.cc:1818] \"goss_alpha\" set but \"sampling_method\" not equal to \"GOSS\".\n",
            "[WARNING 23-10-28 18:57:22.6526 UTC gradient_boosted_trees.cc:1829] \"goss_beta\" set but \"sampling_method\" not equal to \"GOSS\".\n",
            "[WARNING 23-10-28 18:57:22.6526 UTC gradient_boosted_trees.cc:1843] \"selective_gradient_boosting_ratio\" set but \"sampling_method\" not equal to \"SELGB\".\n",
            "[INFO 23-10-28 18:57:23.1402 UTC kernel.cc:1243] Loading model from path /tmp/tmpwty1uhmu/model/ with prefix ce65bff00e56467b\n",
            "[INFO 23-10-28 18:57:23.1439 UTC kernel.cc:1075] Use fast generic engine\n"
          ]
        },
        {
          "name": "stdout",
          "output_type": "stream",
          "text": [
            "i:36\n"
          ]
        },
        {
          "name": "stderr",
          "output_type": "stream",
          "text": [
            "[WARNING 23-10-28 18:57:23.4537 UTC gradient_boosted_trees.cc:1818] \"goss_alpha\" set but \"sampling_method\" not equal to \"GOSS\".\n",
            "[WARNING 23-10-28 18:57:23.4538 UTC gradient_boosted_trees.cc:1829] \"goss_beta\" set but \"sampling_method\" not equal to \"GOSS\".\n",
            "[WARNING 23-10-28 18:57:23.4538 UTC gradient_boosted_trees.cc:1843] \"selective_gradient_boosting_ratio\" set but \"sampling_method\" not equal to \"SELGB\".\n",
            "[INFO 23-10-28 18:57:24.0557 UTC kernel.cc:1243] Loading model from path /tmp/tmp29vtv_61/model/ with prefix 8f5c4ac4533146ef\n",
            "[INFO 23-10-28 18:57:24.0625 UTC kernel.cc:1075] Use fast generic engine\n"
          ]
        },
        {
          "name": "stdout",
          "output_type": "stream",
          "text": [
            "i:37\n"
          ]
        },
        {
          "name": "stderr",
          "output_type": "stream",
          "text": [
            "[WARNING 23-10-28 18:57:24.3732 UTC gradient_boosted_trees.cc:1818] \"goss_alpha\" set but \"sampling_method\" not equal to \"GOSS\".\n",
            "[WARNING 23-10-28 18:57:24.3732 UTC gradient_boosted_trees.cc:1829] \"goss_beta\" set but \"sampling_method\" not equal to \"GOSS\".\n",
            "[WARNING 23-10-28 18:57:24.3732 UTC gradient_boosted_trees.cc:1843] \"selective_gradient_boosting_ratio\" set but \"sampling_method\" not equal to \"SELGB\".\n",
            "[INFO 23-10-28 18:57:24.8594 UTC kernel.cc:1243] Loading model from path /tmp/tmptgpvonel/model/ with prefix 3af5e358a0f44d76\n",
            "[INFO 23-10-28 18:57:24.8636 UTC kernel.cc:1075] Use fast generic engine\n"
          ]
        },
        {
          "name": "stdout",
          "output_type": "stream",
          "text": [
            "i:38\n"
          ]
        },
        {
          "name": "stderr",
          "output_type": "stream",
          "text": [
            "[WARNING 23-10-28 18:57:25.1763 UTC gradient_boosted_trees.cc:1818] \"goss_alpha\" set but \"sampling_method\" not equal to \"GOSS\".\n",
            "[WARNING 23-10-28 18:57:25.1763 UTC gradient_boosted_trees.cc:1829] \"goss_beta\" set but \"sampling_method\" not equal to \"GOSS\".\n",
            "[WARNING 23-10-28 18:57:25.1763 UTC gradient_boosted_trees.cc:1843] \"selective_gradient_boosting_ratio\" set but \"sampling_method\" not equal to \"SELGB\".\n",
            "[INFO 23-10-28 18:57:25.8076 UTC kernel.cc:1243] Loading model from path /tmp/tmpfx1ry4xl/model/ with prefix 8c6cd39be92e4d17\n",
            "[INFO 23-10-28 18:57:25.8139 UTC kernel.cc:1075] Use fast generic engine\n"
          ]
        },
        {
          "name": "stdout",
          "output_type": "stream",
          "text": [
            "i:39\n"
          ]
        },
        {
          "name": "stderr",
          "output_type": "stream",
          "text": [
            "[WARNING 23-10-28 18:57:26.1312 UTC gradient_boosted_trees.cc:1818] \"goss_alpha\" set but \"sampling_method\" not equal to \"GOSS\".\n",
            "[WARNING 23-10-28 18:57:26.1312 UTC gradient_boosted_trees.cc:1829] \"goss_beta\" set but \"sampling_method\" not equal to \"GOSS\".\n",
            "[WARNING 23-10-28 18:57:26.1312 UTC gradient_boosted_trees.cc:1843] \"selective_gradient_boosting_ratio\" set but \"sampling_method\" not equal to \"SELGB\".\n",
            "[INFO 23-10-28 18:57:26.7485 UTC kernel.cc:1243] Loading model from path /tmp/tmppl27ybt3/model/ with prefix e233251c6ab844b5\n",
            "[INFO 23-10-28 18:57:26.7547 UTC kernel.cc:1075] Use fast generic engine\n"
          ]
        },
        {
          "name": "stdout",
          "output_type": "stream",
          "text": [
            "i:40\n"
          ]
        },
        {
          "name": "stderr",
          "output_type": "stream",
          "text": [
            "[WARNING 23-10-28 18:57:27.0681 UTC gradient_boosted_trees.cc:1818] \"goss_alpha\" set but \"sampling_method\" not equal to \"GOSS\".\n",
            "[WARNING 23-10-28 18:57:27.0681 UTC gradient_boosted_trees.cc:1829] \"goss_beta\" set but \"sampling_method\" not equal to \"GOSS\".\n",
            "[WARNING 23-10-28 18:57:27.0681 UTC gradient_boosted_trees.cc:1843] \"selective_gradient_boosting_ratio\" set but \"sampling_method\" not equal to \"SELGB\".\n",
            "[INFO 23-10-28 18:57:27.4771 UTC kernel.cc:1243] Loading model from path /tmp/tmpaz8q6g9l/model/ with prefix 43eadd5725d541b4\n",
            "[INFO 23-10-28 18:57:27.4793 UTC kernel.cc:1075] Use fast generic engine\n"
          ]
        },
        {
          "name": "stdout",
          "output_type": "stream",
          "text": [
            "i:41\n"
          ]
        },
        {
          "name": "stderr",
          "output_type": "stream",
          "text": [
            "[WARNING 23-10-28 18:57:28.0108 UTC gradient_boosted_trees.cc:1818] \"goss_alpha\" set but \"sampling_method\" not equal to \"GOSS\".\n",
            "[WARNING 23-10-28 18:57:28.0109 UTC gradient_boosted_trees.cc:1829] \"goss_beta\" set but \"sampling_method\" not equal to \"GOSS\".\n",
            "[WARNING 23-10-28 18:57:28.0109 UTC gradient_boosted_trees.cc:1843] \"selective_gradient_boosting_ratio\" set but \"sampling_method\" not equal to \"SELGB\".\n",
            "[INFO 23-10-28 18:57:28.6537 UTC kernel.cc:1243] Loading model from path /tmp/tmp8vgsfmuh/model/ with prefix 5f3120d82e9d4143\n",
            "[INFO 23-10-28 18:57:28.6611 UTC kernel.cc:1075] Use fast generic engine\n"
          ]
        },
        {
          "name": "stdout",
          "output_type": "stream",
          "text": [
            "i:42\n"
          ]
        },
        {
          "name": "stderr",
          "output_type": "stream",
          "text": [
            "[WARNING 23-10-28 18:57:28.9746 UTC gradient_boosted_trees.cc:1818] \"goss_alpha\" set but \"sampling_method\" not equal to \"GOSS\".\n",
            "[WARNING 23-10-28 18:57:28.9746 UTC gradient_boosted_trees.cc:1829] \"goss_beta\" set but \"sampling_method\" not equal to \"GOSS\".\n",
            "[WARNING 23-10-28 18:57:28.9746 UTC gradient_boosted_trees.cc:1843] \"selective_gradient_boosting_ratio\" set but \"sampling_method\" not equal to \"SELGB\".\n",
            "[INFO 23-10-28 18:57:29.5259 UTC kernel.cc:1243] Loading model from path /tmp/tmphrut3548/model/ with prefix 195e10725e7f42b0\n",
            "[INFO 23-10-28 18:57:29.5305 UTC kernel.cc:1075] Use fast generic engine\n"
          ]
        },
        {
          "name": "stdout",
          "output_type": "stream",
          "text": [
            "i:43\n"
          ]
        },
        {
          "name": "stderr",
          "output_type": "stream",
          "text": [
            "[WARNING 23-10-28 18:57:29.9085 UTC gradient_boosted_trees.cc:1818] \"goss_alpha\" set but \"sampling_method\" not equal to \"GOSS\".\n",
            "[WARNING 23-10-28 18:57:29.9086 UTC gradient_boosted_trees.cc:1829] \"goss_beta\" set but \"sampling_method\" not equal to \"GOSS\".\n",
            "[WARNING 23-10-28 18:57:29.9086 UTC gradient_boosted_trees.cc:1843] \"selective_gradient_boosting_ratio\" set but \"sampling_method\" not equal to \"SELGB\".\n",
            "[INFO 23-10-28 18:57:30.5945 UTC kernel.cc:1243] Loading model from path /tmp/tmpv9xr82g6/model/ with prefix fd00d2214f3c4d69\n",
            "[INFO 23-10-28 18:57:30.6027 UTC kernel.cc:1075] Use fast generic engine\n"
          ]
        },
        {
          "name": "stdout",
          "output_type": "stream",
          "text": [
            "i:44\n"
          ]
        },
        {
          "name": "stderr",
          "output_type": "stream",
          "text": [
            "[WARNING 23-10-28 18:57:30.9104 UTC gradient_boosted_trees.cc:1818] \"goss_alpha\" set but \"sampling_method\" not equal to \"GOSS\".\n",
            "[WARNING 23-10-28 18:57:30.9104 UTC gradient_boosted_trees.cc:1829] \"goss_beta\" set but \"sampling_method\" not equal to \"GOSS\".\n",
            "[WARNING 23-10-28 18:57:30.9104 UTC gradient_boosted_trees.cc:1843] \"selective_gradient_boosting_ratio\" set but \"sampling_method\" not equal to \"SELGB\".\n",
            "[INFO 23-10-28 18:57:31.4212 UTC kernel.cc:1243] Loading model from path /tmp/tmp63grq29z/model/ with prefix d5fe6764fad84aac\n",
            "[INFO 23-10-28 18:57:31.4260 UTC kernel.cc:1075] Use fast generic engine\n"
          ]
        },
        {
          "name": "stdout",
          "output_type": "stream",
          "text": [
            "i:45\n"
          ]
        },
        {
          "name": "stderr",
          "output_type": "stream",
          "text": [
            "[WARNING 23-10-28 18:57:31.7295 UTC gradient_boosted_trees.cc:1818] \"goss_alpha\" set but \"sampling_method\" not equal to \"GOSS\".\n",
            "[WARNING 23-10-28 18:57:31.7295 UTC gradient_boosted_trees.cc:1829] \"goss_beta\" set but \"sampling_method\" not equal to \"GOSS\".\n",
            "[WARNING 23-10-28 18:57:31.7295 UTC gradient_boosted_trees.cc:1843] \"selective_gradient_boosting_ratio\" set but \"sampling_method\" not equal to \"SELGB\".\n",
            "[INFO 23-10-28 18:57:32.1307 UTC kernel.cc:1243] Loading model from path /tmp/tmpkie_j3oj/model/ with prefix 67fa82f3b6784860\n",
            "[INFO 23-10-28 18:57:32.1324 UTC abstract_model.cc:1311] Engine \"GradientBoostedTreesQuickScorerExtended\" built\n",
            "[INFO 23-10-28 18:57:32.1324 UTC kernel.cc:1075] Use fast generic engine\n"
          ]
        },
        {
          "name": "stdout",
          "output_type": "stream",
          "text": [
            "i:46\n"
          ]
        },
        {
          "name": "stderr",
          "output_type": "stream",
          "text": [
            "[WARNING 23-10-28 18:57:32.4447 UTC gradient_boosted_trees.cc:1818] \"goss_alpha\" set but \"sampling_method\" not equal to \"GOSS\".\n",
            "[WARNING 23-10-28 18:57:32.4448 UTC gradient_boosted_trees.cc:1829] \"goss_beta\" set but \"sampling_method\" not equal to \"GOSS\".\n",
            "[WARNING 23-10-28 18:57:32.4448 UTC gradient_boosted_trees.cc:1843] \"selective_gradient_boosting_ratio\" set but \"sampling_method\" not equal to \"SELGB\".\n",
            "[INFO 23-10-28 18:57:33.0732 UTC kernel.cc:1243] Loading model from path /tmp/tmpxrl6jm6z/model/ with prefix 4a33d87610ea4eba\n",
            "[INFO 23-10-28 18:57:33.0802 UTC kernel.cc:1075] Use fast generic engine\n"
          ]
        },
        {
          "name": "stdout",
          "output_type": "stream",
          "text": [
            "i:47\n"
          ]
        },
        {
          "name": "stderr",
          "output_type": "stream",
          "text": [
            "[WARNING 23-10-28 18:57:34.0205 UTC gradient_boosted_trees.cc:1818] \"goss_alpha\" set but \"sampling_method\" not equal to \"GOSS\".\n",
            "[WARNING 23-10-28 18:57:34.0205 UTC gradient_boosted_trees.cc:1829] \"goss_beta\" set but \"sampling_method\" not equal to \"GOSS\".\n",
            "[WARNING 23-10-28 18:57:34.0205 UTC gradient_boosted_trees.cc:1843] \"selective_gradient_boosting_ratio\" set but \"sampling_method\" not equal to \"SELGB\".\n",
            "[INFO 23-10-28 18:57:34.6501 UTC kernel.cc:1243] Loading model from path /tmp/tmp845nmml7/model/ with prefix 14a0cf2ef99c4955\n",
            "[INFO 23-10-28 18:57:34.6561 UTC kernel.cc:1075] Use fast generic engine\n"
          ]
        },
        {
          "name": "stdout",
          "output_type": "stream",
          "text": [
            "i:48\n"
          ]
        },
        {
          "name": "stderr",
          "output_type": "stream",
          "text": [
            "[WARNING 23-10-28 18:57:34.9623 UTC gradient_boosted_trees.cc:1818] \"goss_alpha\" set but \"sampling_method\" not equal to \"GOSS\".\n",
            "[WARNING 23-10-28 18:57:34.9624 UTC gradient_boosted_trees.cc:1829] \"goss_beta\" set but \"sampling_method\" not equal to \"GOSS\".\n",
            "[WARNING 23-10-28 18:57:34.9624 UTC gradient_boosted_trees.cc:1843] \"selective_gradient_boosting_ratio\" set but \"sampling_method\" not equal to \"SELGB\".\n",
            "[INFO 23-10-28 18:57:35.3906 UTC kernel.cc:1243] Loading model from path /tmp/tmpoyzz5snv/model/ with prefix b2a4d082b3f24b34\n",
            "[INFO 23-10-28 18:57:35.3931 UTC kernel.cc:1075] Use fast generic engine\n"
          ]
        },
        {
          "name": "stdout",
          "output_type": "stream",
          "text": [
            "i:49\n"
          ]
        },
        {
          "name": "stderr",
          "output_type": "stream",
          "text": [
            "[WARNING 23-10-28 18:57:35.6900 UTC gradient_boosted_trees.cc:1818] \"goss_alpha\" set but \"sampling_method\" not equal to \"GOSS\".\n",
            "[WARNING 23-10-28 18:57:35.6901 UTC gradient_boosted_trees.cc:1829] \"goss_beta\" set but \"sampling_method\" not equal to \"GOSS\".\n",
            "[WARNING 23-10-28 18:57:35.6901 UTC gradient_boosted_trees.cc:1843] \"selective_gradient_boosting_ratio\" set but \"sampling_method\" not equal to \"SELGB\".\n",
            "[INFO 23-10-28 18:57:36.1537 UTC kernel.cc:1243] Loading model from path /tmp/tmpn9u87cyp/model/ with prefix 8f54058c30b64c3c\n",
            "[INFO 23-10-28 18:57:36.1571 UTC kernel.cc:1075] Use fast generic engine\n"
          ]
        },
        {
          "name": "stdout",
          "output_type": "stream",
          "text": [
            "i:50\n"
          ]
        },
        {
          "name": "stderr",
          "output_type": "stream",
          "text": [
            "[WARNING 23-10-28 18:57:36.4603 UTC gradient_boosted_trees.cc:1818] \"goss_alpha\" set but \"sampling_method\" not equal to \"GOSS\".\n",
            "[WARNING 23-10-28 18:57:36.4603 UTC gradient_boosted_trees.cc:1829] \"goss_beta\" set but \"sampling_method\" not equal to \"GOSS\".\n",
            "[WARNING 23-10-28 18:57:36.4603 UTC gradient_boosted_trees.cc:1843] \"selective_gradient_boosting_ratio\" set but \"sampling_method\" not equal to \"SELGB\".\n",
            "[INFO 23-10-28 18:57:37.0342 UTC kernel.cc:1243] Loading model from path /tmp/tmpdfw98l09/model/ with prefix 7f802724df0744de\n",
            "[INFO 23-10-28 18:57:37.0400 UTC kernel.cc:1075] Use fast generic engine\n"
          ]
        },
        {
          "name": "stdout",
          "output_type": "stream",
          "text": [
            "i:51\n"
          ]
        },
        {
          "name": "stderr",
          "output_type": "stream",
          "text": [
            "[WARNING 23-10-28 18:57:37.3967 UTC gradient_boosted_trees.cc:1818] \"goss_alpha\" set but \"sampling_method\" not equal to \"GOSS\".\n",
            "[WARNING 23-10-28 18:57:37.3967 UTC gradient_boosted_trees.cc:1829] \"goss_beta\" set but \"sampling_method\" not equal to \"GOSS\".\n",
            "[WARNING 23-10-28 18:57:37.3967 UTC gradient_boosted_trees.cc:1843] \"selective_gradient_boosting_ratio\" set but \"sampling_method\" not equal to \"SELGB\".\n",
            "[INFO 23-10-28 18:57:38.0381 UTC kernel.cc:1243] Loading model from path /tmp/tmppmsypfpx/model/ with prefix 534a70f7f5b74035\n",
            "[INFO 23-10-28 18:57:38.0454 UTC kernel.cc:1075] Use fast generic engine\n"
          ]
        },
        {
          "name": "stdout",
          "output_type": "stream",
          "text": [
            "i:52\n"
          ]
        },
        {
          "name": "stderr",
          "output_type": "stream",
          "text": [
            "[WARNING 23-10-28 18:57:38.8558 UTC gradient_boosted_trees.cc:1818] \"goss_alpha\" set but \"sampling_method\" not equal to \"GOSS\".\n",
            "[WARNING 23-10-28 18:57:38.8558 UTC gradient_boosted_trees.cc:1829] \"goss_beta\" set but \"sampling_method\" not equal to \"GOSS\".\n",
            "[WARNING 23-10-28 18:57:38.8558 UTC gradient_boosted_trees.cc:1843] \"selective_gradient_boosting_ratio\" set but \"sampling_method\" not equal to \"SELGB\".\n",
            "[INFO 23-10-28 18:57:39.3596 UTC kernel.cc:1243] Loading model from path /tmp/tmpz4jruk7c/model/ with prefix ab59863664c74b34\n",
            "[INFO 23-10-28 18:57:39.3641 UTC kernel.cc:1075] Use fast generic engine\n"
          ]
        },
        {
          "name": "stdout",
          "output_type": "stream",
          "text": [
            "i:53\n"
          ]
        },
        {
          "name": "stderr",
          "output_type": "stream",
          "text": [
            "[WARNING 23-10-28 18:57:39.6894 UTC gradient_boosted_trees.cc:1818] \"goss_alpha\" set but \"sampling_method\" not equal to \"GOSS\".\n",
            "[WARNING 23-10-28 18:57:39.6895 UTC gradient_boosted_trees.cc:1829] \"goss_beta\" set but \"sampling_method\" not equal to \"GOSS\".\n",
            "[WARNING 23-10-28 18:57:39.6895 UTC gradient_boosted_trees.cc:1843] \"selective_gradient_boosting_ratio\" set but \"sampling_method\" not equal to \"SELGB\".\n",
            "[INFO 23-10-28 18:57:40.1826 UTC kernel.cc:1243] Loading model from path /tmp/tmpac8m3riy/model/ with prefix 70f3385950b04928\n",
            "[INFO 23-10-28 18:57:40.1866 UTC kernel.cc:1075] Use fast generic engine\n"
          ]
        },
        {
          "name": "stdout",
          "output_type": "stream",
          "text": [
            "i:54\n"
          ]
        },
        {
          "name": "stderr",
          "output_type": "stream",
          "text": [
            "[WARNING 23-10-28 18:57:40.5215 UTC gradient_boosted_trees.cc:1818] \"goss_alpha\" set but \"sampling_method\" not equal to \"GOSS\".\n",
            "[WARNING 23-10-28 18:57:40.5215 UTC gradient_boosted_trees.cc:1829] \"goss_beta\" set but \"sampling_method\" not equal to \"GOSS\".\n",
            "[WARNING 23-10-28 18:57:40.5215 UTC gradient_boosted_trees.cc:1843] \"selective_gradient_boosting_ratio\" set but \"sampling_method\" not equal to \"SELGB\".\n",
            "[INFO 23-10-28 18:57:40.9144 UTC kernel.cc:1243] Loading model from path /tmp/tmp8v1d1noh/model/ with prefix 47157cbc877a46d2\n",
            "[INFO 23-10-28 18:57:40.9161 UTC kernel.cc:1075] Use fast generic engine\n"
          ]
        },
        {
          "name": "stdout",
          "output_type": "stream",
          "text": [
            "i:55\n"
          ]
        },
        {
          "name": "stderr",
          "output_type": "stream",
          "text": [
            "[WARNING 23-10-28 18:57:41.2372 UTC gradient_boosted_trees.cc:1818] \"goss_alpha\" set but \"sampling_method\" not equal to \"GOSS\".\n",
            "[WARNING 23-10-28 18:57:41.2372 UTC gradient_boosted_trees.cc:1829] \"goss_beta\" set but \"sampling_method\" not equal to \"GOSS\".\n",
            "[WARNING 23-10-28 18:57:41.2372 UTC gradient_boosted_trees.cc:1843] \"selective_gradient_boosting_ratio\" set but \"sampling_method\" not equal to \"SELGB\".\n",
            "[INFO 23-10-28 18:57:41.9258 UTC kernel.cc:1243] Loading model from path /tmp/tmpwd559mt0/model/ with prefix f24bc2042c8d487a\n",
            "[INFO 23-10-28 18:57:41.9327 UTC kernel.cc:1075] Use fast generic engine\n"
          ]
        },
        {
          "name": "stdout",
          "output_type": "stream",
          "text": [
            "i:56\n"
          ]
        },
        {
          "name": "stderr",
          "output_type": "stream",
          "text": [
            "[WARNING 23-10-28 18:57:42.2535 UTC gradient_boosted_trees.cc:1818] \"goss_alpha\" set but \"sampling_method\" not equal to \"GOSS\".\n",
            "[WARNING 23-10-28 18:57:42.2535 UTC gradient_boosted_trees.cc:1829] \"goss_beta\" set but \"sampling_method\" not equal to \"GOSS\".\n",
            "[WARNING 23-10-28 18:57:42.2535 UTC gradient_boosted_trees.cc:1843] \"selective_gradient_boosting_ratio\" set but \"sampling_method\" not equal to \"SELGB\".\n",
            "[INFO 23-10-28 18:57:42.8025 UTC kernel.cc:1243] Loading model from path /tmp/tmpdp3fb5na/model/ with prefix 51a2021cd3904233\n",
            "[INFO 23-10-28 18:57:42.8077 UTC abstract_model.cc:1311] Engine \"GradientBoostedTreesQuickScorerExtended\" built\n",
            "[INFO 23-10-28 18:57:42.8077 UTC kernel.cc:1075] Use fast generic engine\n"
          ]
        },
        {
          "name": "stdout",
          "output_type": "stream",
          "text": [
            "i:57\n"
          ]
        },
        {
          "name": "stderr",
          "output_type": "stream",
          "text": [
            "[WARNING 23-10-28 18:57:43.1184 UTC gradient_boosted_trees.cc:1818] \"goss_alpha\" set but \"sampling_method\" not equal to \"GOSS\".\n",
            "[WARNING 23-10-28 18:57:43.1185 UTC gradient_boosted_trees.cc:1829] \"goss_beta\" set but \"sampling_method\" not equal to \"GOSS\".\n",
            "[WARNING 23-10-28 18:57:43.1185 UTC gradient_boosted_trees.cc:1843] \"selective_gradient_boosting_ratio\" set but \"sampling_method\" not equal to \"SELGB\".\n",
            "[INFO 23-10-28 18:57:43.5628 UTC kernel.cc:1243] Loading model from path /tmp/tmp3gxrfdkr/model/ with prefix cd9bdabfd1784f4c\n",
            "[INFO 23-10-28 18:57:43.5649 UTC kernel.cc:1075] Use fast generic engine\n"
          ]
        },
        {
          "name": "stdout",
          "output_type": "stream",
          "text": [
            "i:58\n"
          ]
        },
        {
          "name": "stderr",
          "output_type": "stream",
          "text": [
            "[WARNING 23-10-28 18:57:43.8878 UTC gradient_boosted_trees.cc:1818] \"goss_alpha\" set but \"sampling_method\" not equal to \"GOSS\".\n",
            "[WARNING 23-10-28 18:57:43.8879 UTC gradient_boosted_trees.cc:1829] \"goss_beta\" set but \"sampling_method\" not equal to \"GOSS\".\n",
            "[WARNING 23-10-28 18:57:43.8879 UTC gradient_boosted_trees.cc:1843] \"selective_gradient_boosting_ratio\" set but \"sampling_method\" not equal to \"SELGB\".\n",
            "[INFO 23-10-28 18:57:44.3441 UTC kernel.cc:1243] Loading model from path /tmp/tmp6ur5abvx/model/ with prefix efa25eecce7c47a6\n",
            "[INFO 23-10-28 18:57:44.3474 UTC kernel.cc:1075] Use fast generic engine\n"
          ]
        },
        {
          "name": "stdout",
          "output_type": "stream",
          "text": [
            "i:59\n"
          ]
        },
        {
          "name": "stderr",
          "output_type": "stream",
          "text": [
            "[WARNING 23-10-28 18:57:44.8336 UTC gradient_boosted_trees.cc:1818] \"goss_alpha\" set but \"sampling_method\" not equal to \"GOSS\".\n",
            "[WARNING 23-10-28 18:57:44.8336 UTC gradient_boosted_trees.cc:1829] \"goss_beta\" set but \"sampling_method\" not equal to \"GOSS\".\n",
            "[WARNING 23-10-28 18:57:44.8336 UTC gradient_boosted_trees.cc:1843] \"selective_gradient_boosting_ratio\" set but \"sampling_method\" not equal to \"SELGB\".\n",
            "[INFO 23-10-28 18:57:45.3350 UTC kernel.cc:1243] Loading model from path /tmp/tmpa09eh3xg/model/ with prefix 8411073eb9de46a5\n",
            "[INFO 23-10-28 18:57:45.3397 UTC kernel.cc:1075] Use fast generic engine\n"
          ]
        },
        {
          "name": "stdout",
          "output_type": "stream",
          "text": [
            "i:60\n"
          ]
        },
        {
          "name": "stderr",
          "output_type": "stream",
          "text": [
            "[WARNING 23-10-28 18:57:45.6503 UTC gradient_boosted_trees.cc:1818] \"goss_alpha\" set but \"sampling_method\" not equal to \"GOSS\".\n",
            "[WARNING 23-10-28 18:57:45.6503 UTC gradient_boosted_trees.cc:1829] \"goss_beta\" set but \"sampling_method\" not equal to \"GOSS\".\n",
            "[WARNING 23-10-28 18:57:45.6503 UTC gradient_boosted_trees.cc:1843] \"selective_gradient_boosting_ratio\" set but \"sampling_method\" not equal to \"SELGB\".\n",
            "[INFO 23-10-28 18:57:46.1844 UTC kernel.cc:1243] Loading model from path /tmp/tmp6s8lq295/model/ with prefix f8e8261b9855425e\n",
            "[INFO 23-10-28 18:57:46.1893 UTC kernel.cc:1075] Use fast generic engine\n"
          ]
        },
        {
          "name": "stdout",
          "output_type": "stream",
          "text": [
            "i:61\n"
          ]
        },
        {
          "name": "stderr",
          "output_type": "stream",
          "text": [
            "[WARNING 23-10-28 18:57:46.5002 UTC gradient_boosted_trees.cc:1818] \"goss_alpha\" set but \"sampling_method\" not equal to \"GOSS\".\n",
            "[WARNING 23-10-28 18:57:46.5002 UTC gradient_boosted_trees.cc:1829] \"goss_beta\" set but \"sampling_method\" not equal to \"GOSS\".\n",
            "[WARNING 23-10-28 18:57:46.5003 UTC gradient_boosted_trees.cc:1843] \"selective_gradient_boosting_ratio\" set but \"sampling_method\" not equal to \"SELGB\".\n",
            "[INFO 23-10-28 18:57:46.9494 UTC kernel.cc:1243] Loading model from path /tmp/tmpul6s1dzg/model/ with prefix b04d90fb5a9f487f\n",
            "[INFO 23-10-28 18:57:46.9517 UTC kernel.cc:1075] Use fast generic engine\n"
          ]
        },
        {
          "name": "stdout",
          "output_type": "stream",
          "text": [
            "i:62\n"
          ]
        },
        {
          "name": "stderr",
          "output_type": "stream",
          "text": [
            "[WARNING 23-10-28 18:57:47.2625 UTC gradient_boosted_trees.cc:1818] \"goss_alpha\" set but \"sampling_method\" not equal to \"GOSS\".\n",
            "[WARNING 23-10-28 18:57:47.2625 UTC gradient_boosted_trees.cc:1829] \"goss_beta\" set but \"sampling_method\" not equal to \"GOSS\".\n",
            "[WARNING 23-10-28 18:57:47.2625 UTC gradient_boosted_trees.cc:1843] \"selective_gradient_boosting_ratio\" set but \"sampling_method\" not equal to \"SELGB\".\n",
            "[INFO 23-10-28 18:57:48.1139 UTC kernel.cc:1243] Loading model from path /tmp/tmpdtbo8aqg/model/ with prefix be4f63baff8d4f1c\n",
            "[INFO 23-10-28 18:57:48.1260 UTC kernel.cc:1075] Use fast generic engine\n"
          ]
        },
        {
          "name": "stdout",
          "output_type": "stream",
          "text": [
            "i:63\n"
          ]
        },
        {
          "name": "stderr",
          "output_type": "stream",
          "text": [
            "[WARNING 23-10-28 18:57:48.8459 UTC gradient_boosted_trees.cc:1818] \"goss_alpha\" set but \"sampling_method\" not equal to \"GOSS\".\n",
            "[WARNING 23-10-28 18:57:48.8459 UTC gradient_boosted_trees.cc:1829] \"goss_beta\" set but \"sampling_method\" not equal to \"GOSS\".\n",
            "[WARNING 23-10-28 18:57:48.8459 UTC gradient_boosted_trees.cc:1843] \"selective_gradient_boosting_ratio\" set but \"sampling_method\" not equal to \"SELGB\".\n",
            "[INFO 23-10-28 18:57:49.3529 UTC kernel.cc:1243] Loading model from path /tmp/tmp5jw1i45p/model/ with prefix 8d30a19f26e7469b\n",
            "[INFO 23-10-28 18:57:49.3573 UTC kernel.cc:1075] Use fast generic engine\n"
          ]
        },
        {
          "name": "stdout",
          "output_type": "stream",
          "text": [
            "i:64\n"
          ]
        },
        {
          "name": "stderr",
          "output_type": "stream",
          "text": [
            "[WARNING 23-10-28 18:57:49.8018 UTC gradient_boosted_trees.cc:1818] \"goss_alpha\" set but \"sampling_method\" not equal to \"GOSS\".\n",
            "[WARNING 23-10-28 18:57:49.8019 UTC gradient_boosted_trees.cc:1829] \"goss_beta\" set but \"sampling_method\" not equal to \"GOSS\".\n",
            "[WARNING 23-10-28 18:57:49.8019 UTC gradient_boosted_trees.cc:1843] \"selective_gradient_boosting_ratio\" set but \"sampling_method\" not equal to \"SELGB\".\n",
            "[INFO 23-10-28 18:57:50.3188 UTC kernel.cc:1243] Loading model from path /tmp/tmpbfmz0vhq/model/ with prefix 42a0b59b90a64211\n",
            "[INFO 23-10-28 18:57:50.3224 UTC kernel.cc:1075] Use fast generic engine\n"
          ]
        },
        {
          "name": "stdout",
          "output_type": "stream",
          "text": [
            "i:65\n"
          ]
        },
        {
          "name": "stderr",
          "output_type": "stream",
          "text": [
            "[WARNING 23-10-28 18:57:50.6426 UTC gradient_boosted_trees.cc:1818] \"goss_alpha\" set but \"sampling_method\" not equal to \"GOSS\".\n",
            "[WARNING 23-10-28 18:57:50.6426 UTC gradient_boosted_trees.cc:1829] \"goss_beta\" set but \"sampling_method\" not equal to \"GOSS\".\n",
            "[WARNING 23-10-28 18:57:50.6426 UTC gradient_boosted_trees.cc:1843] \"selective_gradient_boosting_ratio\" set but \"sampling_method\" not equal to \"SELGB\".\n",
            "[INFO 23-10-28 18:57:51.0714 UTC kernel.cc:1243] Loading model from path /tmp/tmpjph8xdk1/model/ with prefix 4a19994ffe574c7b\n",
            "[INFO 23-10-28 18:57:51.0738 UTC kernel.cc:1075] Use fast generic engine\n"
          ]
        },
        {
          "name": "stdout",
          "output_type": "stream",
          "text": [
            "i:66\n"
          ]
        },
        {
          "name": "stderr",
          "output_type": "stream",
          "text": [
            "[WARNING 23-10-28 18:57:51.3752 UTC gradient_boosted_trees.cc:1818] \"goss_alpha\" set but \"sampling_method\" not equal to \"GOSS\".\n",
            "[WARNING 23-10-28 18:57:51.3753 UTC gradient_boosted_trees.cc:1829] \"goss_beta\" set but \"sampling_method\" not equal to \"GOSS\".\n",
            "[WARNING 23-10-28 18:57:51.3753 UTC gradient_boosted_trees.cc:1843] \"selective_gradient_boosting_ratio\" set but \"sampling_method\" not equal to \"SELGB\".\n",
            "[INFO 23-10-28 18:57:51.8174 UTC kernel.cc:1243] Loading model from path /tmp/tmps8syj5q1/model/ with prefix 06c1134a1f0f4614\n",
            "[INFO 23-10-28 18:57:51.8204 UTC kernel.cc:1075] Use fast generic engine\n"
          ]
        },
        {
          "name": "stdout",
          "output_type": "stream",
          "text": [
            "i:67\n"
          ]
        },
        {
          "name": "stderr",
          "output_type": "stream",
          "text": [
            "[WARNING 23-10-28 18:57:52.1290 UTC gradient_boosted_trees.cc:1818] \"goss_alpha\" set but \"sampling_method\" not equal to \"GOSS\".\n",
            "[WARNING 23-10-28 18:57:52.1290 UTC gradient_boosted_trees.cc:1829] \"goss_beta\" set but \"sampling_method\" not equal to \"GOSS\".\n",
            "[WARNING 23-10-28 18:57:52.1290 UTC gradient_boosted_trees.cc:1843] \"selective_gradient_boosting_ratio\" set but \"sampling_method\" not equal to \"SELGB\".\n",
            "[INFO 23-10-28 18:57:52.8397 UTC kernel.cc:1243] Loading model from path /tmp/tmp5q7co75d/model/ with prefix b141ea77e4f74d6a\n",
            "[INFO 23-10-28 18:57:52.8483 UTC abstract_model.cc:1311] Engine \"GradientBoostedTreesQuickScorerExtended\" built\n",
            "[INFO 23-10-28 18:57:52.8484 UTC kernel.cc:1075] Use fast generic engine\n"
          ]
        },
        {
          "name": "stdout",
          "output_type": "stream",
          "text": [
            "i:68\n"
          ]
        },
        {
          "name": "stderr",
          "output_type": "stream",
          "text": [
            "[WARNING 23-10-28 18:57:53.1727 UTC gradient_boosted_trees.cc:1818] \"goss_alpha\" set but \"sampling_method\" not equal to \"GOSS\".\n",
            "[WARNING 23-10-28 18:57:53.1728 UTC gradient_boosted_trees.cc:1829] \"goss_beta\" set but \"sampling_method\" not equal to \"GOSS\".\n",
            "[WARNING 23-10-28 18:57:53.1728 UTC gradient_boosted_trees.cc:1843] \"selective_gradient_boosting_ratio\" set but \"sampling_method\" not equal to \"SELGB\".\n",
            "[INFO 23-10-28 18:57:53.8053 UTC kernel.cc:1243] Loading model from path /tmp/tmpo9z2rl9y/model/ with prefix 3e70bb38cc014447\n",
            "[INFO 23-10-28 18:57:53.8110 UTC kernel.cc:1075] Use fast generic engine\n"
          ]
        },
        {
          "name": "stdout",
          "output_type": "stream",
          "text": [
            "i:69\n"
          ]
        },
        {
          "name": "stderr",
          "output_type": "stream",
          "text": [
            "[WARNING 23-10-28 18:57:54.1290 UTC gradient_boosted_trees.cc:1818] \"goss_alpha\" set but \"sampling_method\" not equal to \"GOSS\".\n",
            "[WARNING 23-10-28 18:57:54.1290 UTC gradient_boosted_trees.cc:1829] \"goss_beta\" set but \"sampling_method\" not equal to \"GOSS\".\n",
            "[WARNING 23-10-28 18:57:54.1290 UTC gradient_boosted_trees.cc:1843] \"selective_gradient_boosting_ratio\" set but \"sampling_method\" not equal to \"SELGB\".\n",
            "[INFO 23-10-28 18:57:54.5897 UTC kernel.cc:1243] Loading model from path /tmp/tmpyk5u3zd7/model/ with prefix 80c0e033a00041ac\n",
            "[INFO 23-10-28 18:57:54.5930 UTC kernel.cc:1075] Use fast generic engine\n"
          ]
        },
        {
          "name": "stdout",
          "output_type": "stream",
          "text": [
            "i:70\n"
          ]
        },
        {
          "name": "stderr",
          "output_type": "stream",
          "text": [
            "[WARNING 23-10-28 18:57:54.8955 UTC gradient_boosted_trees.cc:1818] \"goss_alpha\" set but \"sampling_method\" not equal to \"GOSS\".\n",
            "[WARNING 23-10-28 18:57:54.8955 UTC gradient_boosted_trees.cc:1829] \"goss_beta\" set but \"sampling_method\" not equal to \"GOSS\".\n",
            "[WARNING 23-10-28 18:57:54.8955 UTC gradient_boosted_trees.cc:1843] \"selective_gradient_boosting_ratio\" set but \"sampling_method\" not equal to \"SELGB\".\n",
            "[INFO 23-10-28 18:57:55.4102 UTC kernel.cc:1243] Loading model from path /tmp/tmprk9rdo32/model/ with prefix c96809772423405a\n",
            "[INFO 23-10-28 18:57:55.4146 UTC kernel.cc:1075] Use fast generic engine\n"
          ]
        },
        {
          "name": "stdout",
          "output_type": "stream",
          "text": [
            "i:71\n"
          ]
        },
        {
          "name": "stderr",
          "output_type": "stream",
          "text": [
            "[WARNING 23-10-28 18:57:55.7166 UTC gradient_boosted_trees.cc:1818] \"goss_alpha\" set but \"sampling_method\" not equal to \"GOSS\".\n",
            "[WARNING 23-10-28 18:57:55.7166 UTC gradient_boosted_trees.cc:1829] \"goss_beta\" set but \"sampling_method\" not equal to \"GOSS\".\n",
            "[WARNING 23-10-28 18:57:55.7166 UTC gradient_boosted_trees.cc:1843] \"selective_gradient_boosting_ratio\" set but \"sampling_method\" not equal to \"SELGB\".\n",
            "[INFO 23-10-28 18:57:56.2122 UTC kernel.cc:1243] Loading model from path /tmp/tmpufc4exqp/model/ with prefix 0a3e24f34e5e430a\n",
            "[INFO 23-10-28 18:57:56.2162 UTC kernel.cc:1075] Use fast generic engine\n"
          ]
        },
        {
          "name": "stdout",
          "output_type": "stream",
          "text": [
            "i:72\n"
          ]
        },
        {
          "name": "stderr",
          "output_type": "stream",
          "text": [
            "[WARNING 23-10-28 18:57:56.5284 UTC gradient_boosted_trees.cc:1818] \"goss_alpha\" set but \"sampling_method\" not equal to \"GOSS\".\n",
            "[WARNING 23-10-28 18:57:56.5284 UTC gradient_boosted_trees.cc:1829] \"goss_beta\" set but \"sampling_method\" not equal to \"GOSS\".\n",
            "[WARNING 23-10-28 18:57:56.5284 UTC gradient_boosted_trees.cc:1843] \"selective_gradient_boosting_ratio\" set but \"sampling_method\" not equal to \"SELGB\".\n",
            "[INFO 23-10-28 18:57:57.2149 UTC kernel.cc:1243] Loading model from path /tmp/tmp6loh1pid/model/ with prefix 797f926fa9644038\n",
            "[INFO 23-10-28 18:57:57.2226 UTC kernel.cc:1075] Use fast generic engine\n"
          ]
        },
        {
          "name": "stdout",
          "output_type": "stream",
          "text": [
            "i:73\n"
          ]
        },
        {
          "name": "stderr",
          "output_type": "stream",
          "text": [
            "[WARNING 23-10-28 18:57:57.5422 UTC gradient_boosted_trees.cc:1818] \"goss_alpha\" set but \"sampling_method\" not equal to \"GOSS\".\n",
            "[WARNING 23-10-28 18:57:57.5422 UTC gradient_boosted_trees.cc:1829] \"goss_beta\" set but \"sampling_method\" not equal to \"GOSS\".\n",
            "[WARNING 23-10-28 18:57:57.5422 UTC gradient_boosted_trees.cc:1843] \"selective_gradient_boosting_ratio\" set but \"sampling_method\" not equal to \"SELGB\".\n",
            "[INFO 23-10-28 18:57:58.0092 UTC kernel.cc:1243] Loading model from path /tmp/tmpnsae568c/model/ with prefix e40e436e02de40d7\n",
            "[INFO 23-10-28 18:57:58.0128 UTC kernel.cc:1075] Use fast generic engine\n"
          ]
        },
        {
          "name": "stdout",
          "output_type": "stream",
          "text": [
            "i:74\n"
          ]
        },
        {
          "name": "stderr",
          "output_type": "stream",
          "text": [
            "[WARNING 23-10-28 18:57:58.3230 UTC gradient_boosted_trees.cc:1818] \"goss_alpha\" set but \"sampling_method\" not equal to \"GOSS\".\n",
            "[WARNING 23-10-28 18:57:58.3230 UTC gradient_boosted_trees.cc:1829] \"goss_beta\" set but \"sampling_method\" not equal to \"GOSS\".\n",
            "[WARNING 23-10-28 18:57:58.3230 UTC gradient_boosted_trees.cc:1843] \"selective_gradient_boosting_ratio\" set but \"sampling_method\" not equal to \"SELGB\".\n",
            "[INFO 23-10-28 18:57:58.9319 UTC kernel.cc:1243] Loading model from path /tmp/tmptz1h_ig8/model/ with prefix 3b0bf7892f944a10\n",
            "[INFO 23-10-28 18:57:58.9373 UTC kernel.cc:1075] Use fast generic engine\n"
          ]
        },
        {
          "name": "stdout",
          "output_type": "stream",
          "text": [
            "i:75\n"
          ]
        },
        {
          "name": "stderr",
          "output_type": "stream",
          "text": [
            "[WARNING 23-10-28 18:57:59.2426 UTC gradient_boosted_trees.cc:1818] \"goss_alpha\" set but \"sampling_method\" not equal to \"GOSS\".\n",
            "[WARNING 23-10-28 18:57:59.2426 UTC gradient_boosted_trees.cc:1829] \"goss_beta\" set but \"sampling_method\" not equal to \"GOSS\".\n",
            "[WARNING 23-10-28 18:57:59.2426 UTC gradient_boosted_trees.cc:1843] \"selective_gradient_boosting_ratio\" set but \"sampling_method\" not equal to \"SELGB\".\n",
            "[INFO 23-10-28 18:58:00.2512 UTC kernel.cc:1243] Loading model from path /tmp/tmpdcuq83zi/model/ with prefix c504b1f895aa44e6\n",
            "[INFO 23-10-28 18:58:00.2570 UTC kernel.cc:1075] Use fast generic engine\n"
          ]
        },
        {
          "name": "stdout",
          "output_type": "stream",
          "text": [
            "i:76\n"
          ]
        },
        {
          "name": "stderr",
          "output_type": "stream",
          "text": [
            "[WARNING 23-10-28 18:58:00.6965 UTC gradient_boosted_trees.cc:1818] \"goss_alpha\" set but \"sampling_method\" not equal to \"GOSS\".\n",
            "[WARNING 23-10-28 18:58:00.6965 UTC gradient_boosted_trees.cc:1829] \"goss_beta\" set but \"sampling_method\" not equal to \"GOSS\".\n",
            "[WARNING 23-10-28 18:58:00.6966 UTC gradient_boosted_trees.cc:1843] \"selective_gradient_boosting_ratio\" set but \"sampling_method\" not equal to \"SELGB\".\n",
            "[INFO 23-10-28 18:58:01.1549 UTC kernel.cc:1243] Loading model from path /tmp/tmpbwznlfy4/model/ with prefix ae29677849404432\n",
            "[INFO 23-10-28 18:58:01.1573 UTC kernel.cc:1075] Use fast generic engine\n"
          ]
        },
        {
          "name": "stdout",
          "output_type": "stream",
          "text": [
            "i:77\n"
          ]
        },
        {
          "name": "stderr",
          "output_type": "stream",
          "text": [
            "[WARNING 23-10-28 18:58:01.5184 UTC gradient_boosted_trees.cc:1818] \"goss_alpha\" set but \"sampling_method\" not equal to \"GOSS\".\n",
            "[WARNING 23-10-28 18:58:01.5184 UTC gradient_boosted_trees.cc:1829] \"goss_beta\" set but \"sampling_method\" not equal to \"GOSS\".\n",
            "[WARNING 23-10-28 18:58:01.5184 UTC gradient_boosted_trees.cc:1843] \"selective_gradient_boosting_ratio\" set but \"sampling_method\" not equal to \"SELGB\".\n",
            "[INFO 23-10-28 18:58:01.9644 UTC kernel.cc:1243] Loading model from path /tmp/tmp1pyv2nb4/model/ with prefix 96c512319e2a44d0\n",
            "[INFO 23-10-28 18:58:01.9670 UTC kernel.cc:1075] Use fast generic engine\n"
          ]
        },
        {
          "name": "stdout",
          "output_type": "stream",
          "text": [
            "i:78\n"
          ]
        },
        {
          "name": "stderr",
          "output_type": "stream",
          "text": [
            "[WARNING 23-10-28 18:58:02.2905 UTC gradient_boosted_trees.cc:1818] \"goss_alpha\" set but \"sampling_method\" not equal to \"GOSS\".\n",
            "[WARNING 23-10-28 18:58:02.2905 UTC gradient_boosted_trees.cc:1829] \"goss_beta\" set but \"sampling_method\" not equal to \"GOSS\".\n",
            "[WARNING 23-10-28 18:58:02.2905 UTC gradient_boosted_trees.cc:1843] \"selective_gradient_boosting_ratio\" set but \"sampling_method\" not equal to \"SELGB\".\n",
            "[INFO 23-10-28 18:58:02.7626 UTC kernel.cc:1243] Loading model from path /tmp/tmpsw8qlzmq/model/ with prefix 53b633ff874242b1\n",
            "[INFO 23-10-28 18:58:02.7659 UTC kernel.cc:1075] Use fast generic engine\n"
          ]
        },
        {
          "name": "stdout",
          "output_type": "stream",
          "text": [
            "i:79\n"
          ]
        },
        {
          "name": "stderr",
          "output_type": "stream",
          "text": [
            "[WARNING 23-10-28 18:58:03.0792 UTC gradient_boosted_trees.cc:1818] \"goss_alpha\" set but \"sampling_method\" not equal to \"GOSS\".\n",
            "[WARNING 23-10-28 18:58:03.0792 UTC gradient_boosted_trees.cc:1829] \"goss_beta\" set but \"sampling_method\" not equal to \"GOSS\".\n",
            "[WARNING 23-10-28 18:58:03.0792 UTC gradient_boosted_trees.cc:1843] \"selective_gradient_boosting_ratio\" set but \"sampling_method\" not equal to \"SELGB\".\n",
            "[INFO 23-10-28 18:58:03.5476 UTC kernel.cc:1243] Loading model from path /tmp/tmpfe1fy7f2/model/ with prefix 55d82200832046ab\n",
            "[INFO 23-10-28 18:58:03.5511 UTC abstract_model.cc:1311] Engine \"GradientBoostedTreesQuickScorerExtended\" built\n",
            "[INFO 23-10-28 18:58:03.5512 UTC kernel.cc:1075] Use fast generic engine\n"
          ]
        },
        {
          "name": "stdout",
          "output_type": "stream",
          "text": [
            "i:80\n"
          ]
        },
        {
          "name": "stderr",
          "output_type": "stream",
          "text": [
            "[WARNING 23-10-28 18:58:03.8710 UTC gradient_boosted_trees.cc:1818] \"goss_alpha\" set but \"sampling_method\" not equal to \"GOSS\".\n",
            "[WARNING 23-10-28 18:58:03.8710 UTC gradient_boosted_trees.cc:1829] \"goss_beta\" set but \"sampling_method\" not equal to \"GOSS\".\n",
            "[WARNING 23-10-28 18:58:03.8710 UTC gradient_boosted_trees.cc:1843] \"selective_gradient_boosting_ratio\" set but \"sampling_method\" not equal to \"SELGB\".\n",
            "[INFO 23-10-28 18:58:04.4040 UTC kernel.cc:1243] Loading model from path /tmp/tmp4t10vc9d/model/ with prefix 01bbb987e74e4795\n",
            "[INFO 23-10-28 18:58:04.4088 UTC kernel.cc:1075] Use fast generic engine\n"
          ]
        },
        {
          "name": "stdout",
          "output_type": "stream",
          "text": [
            "i:81\n"
          ]
        },
        {
          "name": "stderr",
          "output_type": "stream",
          "text": [
            "[WARNING 23-10-28 18:58:04.7289 UTC gradient_boosted_trees.cc:1818] \"goss_alpha\" set but \"sampling_method\" not equal to \"GOSS\".\n",
            "[WARNING 23-10-28 18:58:04.7289 UTC gradient_boosted_trees.cc:1829] \"goss_beta\" set but \"sampling_method\" not equal to \"GOSS\".\n",
            "[WARNING 23-10-28 18:58:04.7290 UTC gradient_boosted_trees.cc:1843] \"selective_gradient_boosting_ratio\" set but \"sampling_method\" not equal to \"SELGB\".\n",
            "[INFO 23-10-28 18:58:05.3004 UTC kernel.cc:1243] Loading model from path /tmp/tmpfex2astx/model/ with prefix 5d1193dbbdd045b2\n",
            "[INFO 23-10-28 18:58:05.3058 UTC kernel.cc:1075] Use fast generic engine\n"
          ]
        },
        {
          "name": "stdout",
          "output_type": "stream",
          "text": [
            "i:82\n"
          ]
        },
        {
          "name": "stderr",
          "output_type": "stream",
          "text": [
            "[WARNING 23-10-28 18:58:05.6273 UTC gradient_boosted_trees.cc:1818] \"goss_alpha\" set but \"sampling_method\" not equal to \"GOSS\".\n",
            "[WARNING 23-10-28 18:58:05.6273 UTC gradient_boosted_trees.cc:1829] \"goss_beta\" set but \"sampling_method\" not equal to \"GOSS\".\n",
            "[WARNING 23-10-28 18:58:05.6273 UTC gradient_boosted_trees.cc:1843] \"selective_gradient_boosting_ratio\" set but \"sampling_method\" not equal to \"SELGB\".\n",
            "[INFO 23-10-28 18:58:06.1954 UTC kernel.cc:1243] Loading model from path /tmp/tmp2mm2r_su/model/ with prefix c15c937a15044df3\n",
            "[INFO 23-10-28 18:58:06.2003 UTC kernel.cc:1075] Use fast generic engine\n"
          ]
        },
        {
          "name": "stdout",
          "output_type": "stream",
          "text": [
            "i:83\n"
          ]
        },
        {
          "name": "stderr",
          "output_type": "stream",
          "text": [
            "[WARNING 23-10-28 18:58:06.5189 UTC gradient_boosted_trees.cc:1818] \"goss_alpha\" set but \"sampling_method\" not equal to \"GOSS\".\n",
            "[WARNING 23-10-28 18:58:06.5189 UTC gradient_boosted_trees.cc:1829] \"goss_beta\" set but \"sampling_method\" not equal to \"GOSS\".\n",
            "[WARNING 23-10-28 18:58:06.5189 UTC gradient_boosted_trees.cc:1843] \"selective_gradient_boosting_ratio\" set but \"sampling_method\" not equal to \"SELGB\".\n",
            "[INFO 23-10-28 18:58:07.0203 UTC kernel.cc:1243] Loading model from path /tmp/tmpszdy1qyy/model/ with prefix 21b9b71e19554bc4\n",
            "[INFO 23-10-28 18:58:07.0244 UTC kernel.cc:1075] Use fast generic engine\n"
          ]
        },
        {
          "name": "stdout",
          "output_type": "stream",
          "text": [
            "i:84\n"
          ]
        },
        {
          "name": "stderr",
          "output_type": "stream",
          "text": [
            "[WARNING 23-10-28 18:58:07.3238 UTC gradient_boosted_trees.cc:1818] \"goss_alpha\" set but \"sampling_method\" not equal to \"GOSS\".\n",
            "[WARNING 23-10-28 18:58:07.3238 UTC gradient_boosted_trees.cc:1829] \"goss_beta\" set but \"sampling_method\" not equal to \"GOSS\".\n",
            "[WARNING 23-10-28 18:58:07.3238 UTC gradient_boosted_trees.cc:1843] \"selective_gradient_boosting_ratio\" set but \"sampling_method\" not equal to \"SELGB\".\n",
            "[INFO 23-10-28 18:58:07.9868 UTC kernel.cc:1243] Loading model from path /tmp/tmpwyakkasj/model/ with prefix fad2da9df1754964\n",
            "[INFO 23-10-28 18:58:07.9942 UTC kernel.cc:1075] Use fast generic engine\n"
          ]
        },
        {
          "name": "stdout",
          "output_type": "stream",
          "text": [
            "i:85\n"
          ]
        },
        {
          "name": "stderr",
          "output_type": "stream",
          "text": [
            "[WARNING 23-10-28 18:58:08.3075 UTC gradient_boosted_trees.cc:1818] \"goss_alpha\" set but \"sampling_method\" not equal to \"GOSS\".\n",
            "[WARNING 23-10-28 18:58:08.3075 UTC gradient_boosted_trees.cc:1829] \"goss_beta\" set but \"sampling_method\" not equal to \"GOSS\".\n",
            "[WARNING 23-10-28 18:58:08.3075 UTC gradient_boosted_trees.cc:1843] \"selective_gradient_boosting_ratio\" set but \"sampling_method\" not equal to \"SELGB\".\n",
            "[INFO 23-10-28 18:58:08.7665 UTC kernel.cc:1243] Loading model from path /tmp/tmpe4_2ty0n/model/ with prefix 712183cfebf74819\n",
            "[INFO 23-10-28 18:58:08.7696 UTC kernel.cc:1075] Use fast generic engine\n"
          ]
        },
        {
          "name": "stdout",
          "output_type": "stream",
          "text": [
            "i:86\n"
          ]
        },
        {
          "name": "stderr",
          "output_type": "stream",
          "text": [
            "[WARNING 23-10-28 18:58:09.2407 UTC gradient_boosted_trees.cc:1818] \"goss_alpha\" set but \"sampling_method\" not equal to \"GOSS\".\n",
            "[WARNING 23-10-28 18:58:09.2408 UTC gradient_boosted_trees.cc:1829] \"goss_beta\" set but \"sampling_method\" not equal to \"GOSS\".\n",
            "[WARNING 23-10-28 18:58:09.2408 UTC gradient_boosted_trees.cc:1843] \"selective_gradient_boosting_ratio\" set but \"sampling_method\" not equal to \"SELGB\".\n",
            "[INFO 23-10-28 18:58:09.9286 UTC kernel.cc:1243] Loading model from path /tmp/tmpubufaa11/model/ with prefix ecccfc90332745e0\n",
            "[INFO 23-10-28 18:58:09.9361 UTC kernel.cc:1075] Use fast generic engine\n"
          ]
        },
        {
          "name": "stdout",
          "output_type": "stream",
          "text": [
            "i:87\n"
          ]
        },
        {
          "name": "stderr",
          "output_type": "stream",
          "text": [
            "[WARNING 23-10-28 18:58:10.2550 UTC gradient_boosted_trees.cc:1818] \"goss_alpha\" set but \"sampling_method\" not equal to \"GOSS\".\n",
            "[WARNING 23-10-28 18:58:10.2550 UTC gradient_boosted_trees.cc:1829] \"goss_beta\" set but \"sampling_method\" not equal to \"GOSS\".\n",
            "[WARNING 23-10-28 18:58:10.2550 UTC gradient_boosted_trees.cc:1843] \"selective_gradient_boosting_ratio\" set but \"sampling_method\" not equal to \"SELGB\".\n",
            "[INFO 23-10-28 18:58:10.9412 UTC kernel.cc:1243] Loading model from path /tmp/tmpe87kpge3/model/ with prefix b991172420c4496c\n",
            "[INFO 23-10-28 18:58:10.9494 UTC kernel.cc:1075] Use fast generic engine\n"
          ]
        },
        {
          "name": "stdout",
          "output_type": "stream",
          "text": [
            "i:88\n"
          ]
        },
        {
          "name": "stderr",
          "output_type": "stream",
          "text": [
            "[WARNING 23-10-28 18:58:11.2608 UTC gradient_boosted_trees.cc:1818] \"goss_alpha\" set but \"sampling_method\" not equal to \"GOSS\".\n",
            "[WARNING 23-10-28 18:58:11.2608 UTC gradient_boosted_trees.cc:1829] \"goss_beta\" set but \"sampling_method\" not equal to \"GOSS\".\n",
            "[WARNING 23-10-28 18:58:11.2608 UTC gradient_boosted_trees.cc:1843] \"selective_gradient_boosting_ratio\" set but \"sampling_method\" not equal to \"SELGB\".\n",
            "[INFO 23-10-28 18:58:11.8107 UTC kernel.cc:1243] Loading model from path /tmp/tmpw99rnra8/model/ with prefix 9905942e639744aa\n",
            "[INFO 23-10-28 18:58:11.8161 UTC kernel.cc:1075] Use fast generic engine\n"
          ]
        },
        {
          "name": "stdout",
          "output_type": "stream",
          "text": [
            "i:89\n"
          ]
        },
        {
          "name": "stderr",
          "output_type": "stream",
          "text": [
            "[WARNING 23-10-28 18:58:12.1368 UTC gradient_boosted_trees.cc:1818] \"goss_alpha\" set but \"sampling_method\" not equal to \"GOSS\".\n",
            "[WARNING 23-10-28 18:58:12.1368 UTC gradient_boosted_trees.cc:1829] \"goss_beta\" set but \"sampling_method\" not equal to \"GOSS\".\n",
            "[WARNING 23-10-28 18:58:12.1368 UTC gradient_boosted_trees.cc:1843] \"selective_gradient_boosting_ratio\" set but \"sampling_method\" not equal to \"SELGB\".\n",
            "[INFO 23-10-28 18:58:12.5642 UTC kernel.cc:1243] Loading model from path /tmp/tmpuk_u0ad0/model/ with prefix 3d235252be4242b8\n",
            "[INFO 23-10-28 18:58:12.5671 UTC kernel.cc:1075] Use fast generic engine\n"
          ]
        },
        {
          "name": "stdout",
          "output_type": "stream",
          "text": [
            "i:90\n"
          ]
        },
        {
          "name": "stderr",
          "output_type": "stream",
          "text": [
            "[WARNING 23-10-28 18:58:12.8802 UTC gradient_boosted_trees.cc:1818] \"goss_alpha\" set but \"sampling_method\" not equal to \"GOSS\".\n",
            "[WARNING 23-10-28 18:58:12.8803 UTC gradient_boosted_trees.cc:1829] \"goss_beta\" set but \"sampling_method\" not equal to \"GOSS\".\n",
            "[WARNING 23-10-28 18:58:12.8803 UTC gradient_boosted_trees.cc:1843] \"selective_gradient_boosting_ratio\" set but \"sampling_method\" not equal to \"SELGB\".\n",
            "[INFO 23-10-28 18:58:13.4253 UTC kernel.cc:1243] Loading model from path /tmp/tmpzr92ne0u/model/ with prefix 96b5c712a6614ad1\n",
            "[INFO 23-10-28 18:58:13.4305 UTC kernel.cc:1075] Use fast generic engine\n"
          ]
        },
        {
          "name": "stdout",
          "output_type": "stream",
          "text": [
            "i:91\n"
          ]
        },
        {
          "name": "stderr",
          "output_type": "stream",
          "text": [
            "[WARNING 23-10-28 18:58:13.7325 UTC gradient_boosted_trees.cc:1818] \"goss_alpha\" set but \"sampling_method\" not equal to \"GOSS\".\n",
            "[WARNING 23-10-28 18:58:13.7325 UTC gradient_boosted_trees.cc:1829] \"goss_beta\" set but \"sampling_method\" not equal to \"GOSS\".\n",
            "[WARNING 23-10-28 18:58:13.7325 UTC gradient_boosted_trees.cc:1843] \"selective_gradient_boosting_ratio\" set but \"sampling_method\" not equal to \"SELGB\".\n",
            "[INFO 23-10-28 18:58:14.2336 UTC kernel.cc:1243] Loading model from path /tmp/tmp0mjlv1hs/model/ with prefix 68875b18a66d46b7\n",
            "[INFO 23-10-28 18:58:14.2370 UTC abstract_model.cc:1311] Engine \"GradientBoostedTreesQuickScorerExtended\" built\n",
            "[INFO 23-10-28 18:58:14.2371 UTC kernel.cc:1075] Use fast generic engine\n"
          ]
        },
        {
          "name": "stdout",
          "output_type": "stream",
          "text": [
            "i:92\n"
          ]
        },
        {
          "name": "stderr",
          "output_type": "stream",
          "text": [
            "[WARNING 23-10-28 18:58:14.5449 UTC gradient_boosted_trees.cc:1818] \"goss_alpha\" set but \"sampling_method\" not equal to \"GOSS\".\n",
            "[WARNING 23-10-28 18:58:14.5449 UTC gradient_boosted_trees.cc:1829] \"goss_beta\" set but \"sampling_method\" not equal to \"GOSS\".\n",
            "[WARNING 23-10-28 18:58:14.5449 UTC gradient_boosted_trees.cc:1843] \"selective_gradient_boosting_ratio\" set but \"sampling_method\" not equal to \"SELGB\".\n",
            "[INFO 23-10-28 18:58:15.2340 UTC kernel.cc:1243] Loading model from path /tmp/tmpz702xreg/model/ with prefix e04ae6d5d4574095\n",
            "[INFO 23-10-28 18:58:15.2423 UTC kernel.cc:1075] Use fast generic engine\n"
          ]
        },
        {
          "name": "stdout",
          "output_type": "stream",
          "text": [
            "i:93\n"
          ]
        },
        {
          "name": "stderr",
          "output_type": "stream",
          "text": [
            "[WARNING 23-10-28 18:58:15.5550 UTC gradient_boosted_trees.cc:1818] \"goss_alpha\" set but \"sampling_method\" not equal to \"GOSS\".\n",
            "[WARNING 23-10-28 18:58:15.5550 UTC gradient_boosted_trees.cc:1829] \"goss_beta\" set but \"sampling_method\" not equal to \"GOSS\".\n",
            "[WARNING 23-10-28 18:58:15.5551 UTC gradient_boosted_trees.cc:1843] \"selective_gradient_boosting_ratio\" set but \"sampling_method\" not equal to \"SELGB\".\n",
            "[INFO 23-10-28 18:58:16.1018 UTC kernel.cc:1243] Loading model from path /tmp/tmp9r_wc_g8/model/ with prefix 0726da8425ba4950\n",
            "[INFO 23-10-28 18:58:16.1066 UTC kernel.cc:1075] Use fast generic engine\n"
          ]
        },
        {
          "name": "stdout",
          "output_type": "stream",
          "text": [
            "i:94\n"
          ]
        },
        {
          "name": "stderr",
          "output_type": "stream",
          "text": [
            "[WARNING 23-10-28 18:58:16.4984 UTC gradient_boosted_trees.cc:1818] \"goss_alpha\" set but \"sampling_method\" not equal to \"GOSS\".\n",
            "[WARNING 23-10-28 18:58:16.4985 UTC gradient_boosted_trees.cc:1829] \"goss_beta\" set but \"sampling_method\" not equal to \"GOSS\".\n",
            "[WARNING 23-10-28 18:58:16.4985 UTC gradient_boosted_trees.cc:1843] \"selective_gradient_boosting_ratio\" set but \"sampling_method\" not equal to \"SELGB\".\n",
            "[INFO 23-10-28 18:58:16.9688 UTC kernel.cc:1243] Loading model from path /tmp/tmpifehb8e4/model/ with prefix cef054dbd0654a2d\n",
            "[INFO 23-10-28 18:58:16.9722 UTC kernel.cc:1075] Use fast generic engine\n"
          ]
        },
        {
          "name": "stdout",
          "output_type": "stream",
          "text": [
            "i:95\n"
          ]
        },
        {
          "name": "stderr",
          "output_type": "stream",
          "text": [
            "[WARNING 23-10-28 18:58:17.4434 UTC gradient_boosted_trees.cc:1818] \"goss_alpha\" set but \"sampling_method\" not equal to \"GOSS\".\n",
            "[WARNING 23-10-28 18:58:17.4434 UTC gradient_boosted_trees.cc:1829] \"goss_beta\" set but \"sampling_method\" not equal to \"GOSS\".\n",
            "[WARNING 23-10-28 18:58:17.4434 UTC gradient_boosted_trees.cc:1843] \"selective_gradient_boosting_ratio\" set but \"sampling_method\" not equal to \"SELGB\".\n",
            "[INFO 23-10-28 18:58:17.9428 UTC kernel.cc:1243] Loading model from path /tmp/tmppki08aci/model/ with prefix 9412b1b06ac04636\n",
            "[INFO 23-10-28 18:58:17.9468 UTC kernel.cc:1075] Use fast generic engine\n"
          ]
        },
        {
          "name": "stdout",
          "output_type": "stream",
          "text": [
            "i:96\n"
          ]
        },
        {
          "name": "stderr",
          "output_type": "stream",
          "text": [
            "[WARNING 23-10-28 18:58:18.2524 UTC gradient_boosted_trees.cc:1818] \"goss_alpha\" set but \"sampling_method\" not equal to \"GOSS\".\n",
            "[WARNING 23-10-28 18:58:18.2525 UTC gradient_boosted_trees.cc:1829] \"goss_beta\" set but \"sampling_method\" not equal to \"GOSS\".\n",
            "[WARNING 23-10-28 18:58:18.2526 UTC gradient_boosted_trees.cc:1843] \"selective_gradient_boosting_ratio\" set but \"sampling_method\" not equal to \"SELGB\".\n",
            "[INFO 23-10-28 18:58:18.8406 UTC kernel.cc:1243] Loading model from path /tmp/tmp9_kryyag/model/ with prefix 487e40adec53488f\n",
            "[INFO 23-10-28 18:58:18.8454 UTC kernel.cc:1075] Use fast generic engine\n"
          ]
        },
        {
          "name": "stdout",
          "output_type": "stream",
          "text": [
            "i:97\n"
          ]
        },
        {
          "name": "stderr",
          "output_type": "stream",
          "text": [
            "[WARNING 23-10-28 18:58:19.1522 UTC gradient_boosted_trees.cc:1818] \"goss_alpha\" set but \"sampling_method\" not equal to \"GOSS\".\n",
            "[WARNING 23-10-28 18:58:19.1522 UTC gradient_boosted_trees.cc:1829] \"goss_beta\" set but \"sampling_method\" not equal to \"GOSS\".\n",
            "[WARNING 23-10-28 18:58:19.1522 UTC gradient_boosted_trees.cc:1843] \"selective_gradient_boosting_ratio\" set but \"sampling_method\" not equal to \"SELGB\".\n",
            "[INFO 23-10-28 18:58:19.5984 UTC kernel.cc:1243] Loading model from path /tmp/tmpozmiwnn8/model/ with prefix d9598ea323f242c6\n",
            "[INFO 23-10-28 18:58:19.6010 UTC kernel.cc:1075] Use fast generic engine\n"
          ]
        },
        {
          "name": "stdout",
          "output_type": "stream",
          "text": [
            "i:98\n"
          ]
        },
        {
          "name": "stderr",
          "output_type": "stream",
          "text": [
            "[WARNING 23-10-28 18:58:19.9208 UTC gradient_boosted_trees.cc:1818] \"goss_alpha\" set but \"sampling_method\" not equal to \"GOSS\".\n",
            "[WARNING 23-10-28 18:58:19.9208 UTC gradient_boosted_trees.cc:1829] \"goss_beta\" set but \"sampling_method\" not equal to \"GOSS\".\n",
            "[WARNING 23-10-28 18:58:19.9208 UTC gradient_boosted_trees.cc:1843] \"selective_gradient_boosting_ratio\" set but \"sampling_method\" not equal to \"SELGB\".\n",
            "[INFO 23-10-28 18:58:20.4159 UTC kernel.cc:1243] Loading model from path /tmp/tmp7o286sec/model/ with prefix d4e2026d3b2f459f\n",
            "[INFO 23-10-28 18:58:20.4194 UTC kernel.cc:1075] Use fast generic engine\n"
          ]
        },
        {
          "name": "stdout",
          "output_type": "stream",
          "text": [
            "i:99\n"
          ]
        },
        {
          "name": "stderr",
          "output_type": "stream",
          "text": [
            "[WARNING 23-10-28 18:58:20.7173 UTC gradient_boosted_trees.cc:1818] \"goss_alpha\" set but \"sampling_method\" not equal to \"GOSS\".\n",
            "[WARNING 23-10-28 18:58:20.7173 UTC gradient_boosted_trees.cc:1829] \"goss_beta\" set but \"sampling_method\" not equal to \"GOSS\".\n",
            "[WARNING 23-10-28 18:58:20.7173 UTC gradient_boosted_trees.cc:1843] \"selective_gradient_boosting_ratio\" set but \"sampling_method\" not equal to \"SELGB\".\n",
            "[INFO 23-10-28 18:58:21.3503 UTC kernel.cc:1243] Loading model from path /tmp/tmplwtlp64v/model/ with prefix ad3bc0d58fb84c32\n",
            "[INFO 23-10-28 18:58:21.3568 UTC kernel.cc:1075] Use fast generic engine\n"
          ]
        },
        {
          "name": "stdout",
          "output_type": "stream",
          "text": [
            "Submission exported to /kaggle/working/submission.csv\n"
          ]
        }
      ],
      "source": [
        "predictions = None\n",
        "num_predictions = 0\n",
        "\n",
        "for i in range(100):\n",
        "    print(f\"i:{i}\")\n",
        "    # Possible models: GradientBoostedTreesModel or RandomForestModel\n",
        "    model = tfdf.keras.GradientBoostedTreesModel(\n",
        "        verbose=0, # Very few logs\n",
        "        features=[tfdf.keras.FeatureUsage(name=n) for n in input_features],\n",
        "        exclude_non_specified_features=True, # Only use the features in \"features\"\n",
        "\n",
        "        #min_examples=1,\n",
        "        #categorical_algorithm=\"RANDOM\",\n",
        "        ##max_depth=4,\n",
        "        #shrinkage=0.05,\n",
        "        ##num_candidate_attributes_ratio=0.2,\n",
        "        #split_axis=\"SPARSE_OBLIQUE\",\n",
        "        #sparse_oblique_normalization=\"MIN_MAX\",\n",
        "        #sparse_oblique_num_projections_exponent=2.0,\n",
        "        #num_trees=2000,\n",
        "        ##validation_ratio=0.0,\n",
        "        random_seed=i,\n",
        "        honest=True,\n",
        "    )\n",
        "    model.fit(train_ds)\n",
        "\n",
        "    sub_predictions = model.predict(serving_ds, verbose=0)[:,0]\n",
        "    if predictions is None:\n",
        "        predictions = sub_predictions\n",
        "    else:\n",
        "        predictions += sub_predictions\n",
        "    num_predictions += 1\n",
        "\n",
        "predictions/=num_predictions\n",
        "\n",
        "kaggle_predictions = pd.DataFrame({\n",
        "        \"PassengerId\": serving_df[\"PassengerId\"],\n",
        "        \"Survived\": (predictions >= 0.5).astype(int)\n",
        "    })\n",
        "\n",
        "make_submission(kaggle_predictions)"
      ]
    }
  ],
  "metadata": {
    "kernelspec": {
      "display_name": "Python 3",
      "language": "python",
      "name": "python3"
    },
    "language_info": {
      "codemirror_mode": {
        "name": "ipython",
        "version": 3
      },
      "file_extension": ".py",
      "mimetype": "text/x-python",
      "name": "python",
      "nbconvert_exporter": "python",
      "pygments_lexer": "ipython3",
      "version": "3.10.12"
    },
    "papermill": {
      "default_parameters": {},
      "duration": 194.096629,
      "end_time": "2023-10-28T18:58:24.547424",
      "environment_variables": {},
      "exception": null,
      "input_path": "__notebook__.ipynb",
      "output_path": "__notebook__.ipynb",
      "parameters": {},
      "start_time": "2023-10-28T18:55:10.450795",
      "version": "2.4.0"
    },
    "colab": {
      "provenance": [],
      "include_colab_link": true
    }
  },
  "nbformat": 4,
  "nbformat_minor": 5
}